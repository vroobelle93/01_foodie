{
 "cells": [
  {
   "cell_type": "markdown",
   "source": [
    "# Hello\n",
    "I would like to present my very first data science project. Please do not be intimidated by its magnificence.\n",
    "This is a simple food recommendation project. It gives ideas of dishes basing on your favourite food.\n",
    "This is first project version, which works on a \"dead\" dataset. In other version the project will base on API and connect with website to search for recipes."
   ],
   "metadata": {
    "collapsed": false
   }
  },
  {
   "cell_type": "markdown",
   "source": [
    "## Libraries and knowledge"
   ],
   "metadata": {
    "collapsed": false
   }
  },
  {
   "cell_type": "code",
   "execution_count": null,
   "outputs": [],
   "source": [
    "import os\n",
    "import numpy as np # linear algebra and arrays\n",
    "import pandas as pd # dataframes and stuff\n",
    "import matplotlib.pyplot as plt # plots\n",
    "%matplotlib inline\n",
    "import seaborn as sns # more plots\n",
    "import statistics as st # distributions\n",
    "import scipy as sp # pivot engineering\n",
    "\n",
    "#ML model\n",
    "from sklearn.metrics.pairwise import cosine_similarity"
   ],
   "metadata": {
    "collapsed": false
   }
  },
  {
   "cell_type": "markdown",
   "source": [
    "## Data import and first glimpse into it"
   ],
   "metadata": {
    "collapsed": false
   }
  },
  {
   "cell_type": "markdown",
   "source": [
    "### Users\n",
    "u - UserID\n",
    "techniques - Cooking techniques encountered by user\n",
    "items - Recipes interacted with, in order\n",
    "n_items - Number of recipes reviewed\n",
    "ratings - Ratings given to each recipe encountered by this user\n",
    "n_ratings - Number of ratings in total"
   ],
   "metadata": {
    "collapsed": false
   }
  },
  {
   "cell_type": "code",
   "execution_count": null,
   "outputs": [],
   "source": [
    "users_pp = pd.read_csv('archive/PP_users.csv')\n",
    "users_pp.info()\n",
    "users_pp.head()"
   ],
   "metadata": {
    "collapsed": false
   }
  },
  {
   "cell_type": "markdown",
   "source": [
    "### Recipes - preprocessed data\n",
    "id - Recipe ID\n",
    "i - Recipe ID mapped to contiguous integers from 0\n",
    "name_tokens - BPE-tokenized recipe name\n",
    "ingredient_tokens - BPE-tokenized ingredients list (list of lists)\n",
    "steps_tokens - BPE-tokenized steps\n",
    "techniques - List of techniques used in recipe\n",
    "calorie_level - Calorie level in ascending order\n",
    "ingredients_ids - IDs of ingredients in recipe"
   ],
   "metadata": {
    "collapsed": false
   }
  },
  {
   "cell_type": "code",
   "execution_count": null,
   "outputs": [],
   "source": [
    "recipes_pp = pd.read_csv('archive/PP_recipes.csv')\n",
    "recipes_pp.info()\n",
    "recipes_pp.head()"
   ],
   "metadata": {
    "collapsed": false
   }
  },
  {
   "cell_type": "markdown",
   "source": [
    "### Recipes - raw data\n",
    "name - Recipe name\n",
    "id - Recipe ID\n",
    "minutes - Minutes to prepare recipe\n",
    "contributor_id - User ID who submitted this recipe\n",
    "submitted - Date recipe was submitted\n",
    "tags - Food.com tags for recipe\n",
    "nutrition - Nutrition information (calories (#), total fat (PDV), sugar (PDV) , sodium (PDV) , protein (PDV) , saturated fat\n",
    "steps - Text for recipe steps, in order\n",
    "description - User-provided description"
   ],
   "metadata": {
    "collapsed": false
   }
  },
  {
   "cell_type": "code",
   "execution_count": null,
   "outputs": [],
   "source": [
    "recipes_raw = pd.read_csv('archive/RAW_recipes.csv')\n",
    "recipes_raw.info()\n",
    "recipes_raw.head()"
   ],
   "metadata": {
    "collapsed": false
   }
  },
  {
   "cell_type": "markdown",
   "source": [
    "### Interactions\n",
    "user_id - User ID\n",
    "recipe_id - Recipe ID\n",
    "date - Date of interaction\n",
    "rating - Rating given\n",
    "review - Review text"
   ],
   "metadata": {
    "collapsed": false
   }
  },
  {
   "cell_type": "code",
   "execution_count": 21,
   "outputs": [
    {
     "name": "stdout",
     "output_type": "stream",
     "text": [
      "<class 'pandas.core.frame.DataFrame'>\n",
      "RangeIndex: 1132367 entries, 0 to 1132366\n",
      "Data columns (total 5 columns):\n",
      " #   Column     Non-Null Count    Dtype \n",
      "---  ------     --------------    ----- \n",
      " 0   user_id    1132367 non-null  int64 \n",
      " 1   recipe_id  1132367 non-null  int64 \n",
      " 2   date       1132367 non-null  object\n",
      " 3   rating     1132367 non-null  int64 \n",
      " 4   review     1132198 non-null  object\n",
      "dtypes: int64(3), object(2)\n",
      "memory usage: 43.2+ MB\n"
     ]
    },
    {
     "data": {
      "text/plain": "   user_id  recipe_id        date  rating  \\\n0    38094      40893  2003-02-17       4   \n1  1293707      40893  2011-12-21       5   \n2     8937      44394  2002-12-01       4   \n3   126440      85009  2010-02-27       5   \n4    57222      85009  2011-10-01       5   \n\n                                              review  \n0  Great with a salad. Cooked on top of stove for...  \n1  So simple, so delicious! Great for chilly fall...  \n2  This worked very well and is EASY.  I used not...  \n3  I made the Mexican topping and took it to bunk...  \n4  Made the cheddar bacon topping, adding a sprin...  ",
      "text/html": "<div>\n<style scoped>\n    .dataframe tbody tr th:only-of-type {\n        vertical-align: middle;\n    }\n\n    .dataframe tbody tr th {\n        vertical-align: top;\n    }\n\n    .dataframe thead th {\n        text-align: right;\n    }\n</style>\n<table border=\"1\" class=\"dataframe\">\n  <thead>\n    <tr style=\"text-align: right;\">\n      <th></th>\n      <th>user_id</th>\n      <th>recipe_id</th>\n      <th>date</th>\n      <th>rating</th>\n      <th>review</th>\n    </tr>\n  </thead>\n  <tbody>\n    <tr>\n      <th>0</th>\n      <td>38094</td>\n      <td>40893</td>\n      <td>2003-02-17</td>\n      <td>4</td>\n      <td>Great with a salad. Cooked on top of stove for...</td>\n    </tr>\n    <tr>\n      <th>1</th>\n      <td>1293707</td>\n      <td>40893</td>\n      <td>2011-12-21</td>\n      <td>5</td>\n      <td>So simple, so delicious! Great for chilly fall...</td>\n    </tr>\n    <tr>\n      <th>2</th>\n      <td>8937</td>\n      <td>44394</td>\n      <td>2002-12-01</td>\n      <td>4</td>\n      <td>This worked very well and is EASY.  I used not...</td>\n    </tr>\n    <tr>\n      <th>3</th>\n      <td>126440</td>\n      <td>85009</td>\n      <td>2010-02-27</td>\n      <td>5</td>\n      <td>I made the Mexican topping and took it to bunk...</td>\n    </tr>\n    <tr>\n      <th>4</th>\n      <td>57222</td>\n      <td>85009</td>\n      <td>2011-10-01</td>\n      <td>5</td>\n      <td>Made the cheddar bacon topping, adding a sprin...</td>\n    </tr>\n  </tbody>\n</table>\n</div>"
     },
     "execution_count": 21,
     "metadata": {},
     "output_type": "execute_result"
    }
   ],
   "source": [
    "interactions_raw = pd.read_csv('archive/RAW_interactions.csv')\n",
    "interactions_raw.dropna()\n",
    "interactions_raw.info()\n",
    "interactions_raw.head()"
   ],
   "metadata": {
    "collapsed": false
   }
  },
  {
   "cell_type": "markdown",
   "source": [
    "## Data analysis"
   ],
   "metadata": {
    "collapsed": false
   }
  },
  {
   "cell_type": "markdown",
   "source": [
    "### Most often rated recipes\n",
    "\n",
    "I am gonna do it using lists, where list indexes will be recipe ids. This requires creating lists longer by one than maximum recipe_id, so that recipe_id can directly match list index.\n",
    "Having it done I will create a structured array as in formula:\n",
    "[(recipe_id, interactions_count, average_rating), ...]"
   ],
   "metadata": {
    "collapsed": false
   }
  },
  {
   "cell_type": "code",
   "execution_count": null,
   "outputs": [],
   "source": [
    "# Create lists for interactions count and sum of rates\n",
    "interactions_count = [0] * (max(recipes_raw['id'].values) + 1)\n",
    "ratings_sum = [0] * (max(recipes_raw['id'].values) + 1)\n",
    "\n",
    "# Fill the lists\n",
    "for row_index, row in interactions_raw.iterrows():\n",
    "    recipe_id = interactions_raw.loc[row_index]['recipe_id']\n",
    "    rating = interactions_raw.loc[row_index]['rating']\n",
    "    interactions_count[recipe_id] += 1\n",
    "    ratings_sum[recipe_id] += rating"
   ],
   "metadata": {
    "collapsed": false
   }
  },
  {
   "cell_type": "code",
   "execution_count": null,
   "outputs": [],
   "source": [
    "# Create a structured array to store the recipes stats\n",
    "array_structure = [('recipe_id', int), ('interactions_count', int), ('avg_rating', float)]\n",
    "array_values = []\n",
    "\n",
    "for recipe_id in recipes_raw['id'].values:\n",
    "    interactions_number = interactions_count[recipe_id]\n",
    "    avg_rating = ratings_sum[recipe_id] / interactions_count[recipe_id]\n",
    "    array_values.append((recipe_id, interactions_number, avg_rating))\n",
    "recipe_stats = np.array(array_values, dtype = array_structure)"
   ],
   "metadata": {
    "collapsed": false
   }
  },
  {
   "cell_type": "code",
   "execution_count": 31,
   "outputs": [
    {
     "name": "stdout",
     "output_type": "stream",
     "text": [
      "Position 10:\n",
      "JAPANESE MUM S CHICKEN\n",
      "Interactions:   904\n",
      "Average rating: 4.40 / 5\n",
      "\n",
      "Position 9:\n",
      "KITTENCAL S ITALIAN MELT IN YOUR MOUTH MEATBALLS\n",
      "Interactions:   997\n",
      "Average rating: 4.71 / 5\n",
      "\n",
      "Position 8:\n",
      "WHATEVER FLOATS YOUR BOAT  BROWNIES\n",
      "Interactions:   1220\n",
      "Average rating: 4.53 / 5\n",
      "\n",
      "Position 7:\n",
      "JO MAMA S WORLD FAMOUS SPAGHETTI\n",
      "Interactions:   1234\n",
      "Average rating: 4.42 / 5\n",
      "\n",
      "Position 6:\n",
      "YES  VIRGINIA THERE IS A GREAT MEATLOAF\n",
      "Interactions:   1305\n",
      "Average rating: 4.21 / 5\n",
      "\n",
      "Position 5:\n",
      "BEST EVER BANANA CAKE WITH CREAM CHEESE FROSTING\n",
      "Interactions:   1322\n",
      "Average rating: 4.33 / 5\n",
      "\n",
      "Position 4:\n",
      "CREAMY CAJUN CHICKEN PASTA\n",
      "Interactions:   1448\n",
      "Average rating: 4.54 / 5\n",
      "\n",
      "Position 3:\n",
      "CROCK POT CHICKEN WITH BLACK BEANS   CREAM CHEESE\n",
      "Interactions:   1579\n",
      "Average rating: 4.22 / 5\n",
      "\n",
      "Position 2:\n",
      "TO DIE FOR CROCK POT ROAST\n",
      "Interactions:   1601\n",
      "Average rating: 4.29 / 5\n",
      "\n",
      "Position 1:\n",
      "BEST BANANA BREAD\n",
      "Interactions:   1613\n",
      "Average rating: 4.19 / 5\n",
      "\n"
     ]
    }
   ],
   "source": [
    "# Find 10 most often rated recipes\n",
    "most_often_recipes = recipe_stats.copy()\n",
    "most_often_recipes.sort(order = 'interactions_count')\n",
    "most_often_recipes = most_often_recipes[::-1]\n",
    "\n",
    "for i in range(10, 0, -1):\n",
    "    print('Position ', i, ':', sep = '')\n",
    "    recipe_id = most_often_recipes[i - 1]['recipe_id']\n",
    "    name = recipes_raw.loc[recipes_raw['id'] == recipe_id]['name'].to_string(index= False)\n",
    "    print(name.upper())\n",
    "    print('Interactions:  ', most_often_recipes[i - 1]['interactions_count'])\n",
    "    avg_rating = most_often_recipes[i - 1]['avg_rating']\n",
    "    print(f'Average rating: {avg_rating:1.2f} / 5\\n')"
   ],
   "metadata": {
    "collapsed": false
   }
  },
  {
   "cell_type": "markdown",
   "source": [
    "### Highest rated recipes\n",
    "At this point I would like to find recipes with highest average rating, but this would probably return a lot of recipes with just one, 5-stars mark."
   ],
   "metadata": {
    "collapsed": false
   }
  },
  {
   "cell_type": "code",
   "execution_count": null,
   "outputs": [],
   "source": [
    "# Find 10 top rated recipes\n",
    "\n",
    "top_rated_recipes = recipe_stats.copy()\n",
    "top_rated_recipes.sort(order = 'avg_rating')\n",
    "top_rated_recipes = top_rated_recipes[::-1]\n",
    "\n",
    "for i in range(10, 0, -1):\n",
    "    print('Position ', i, ':', sep = '')\n",
    "    recipe_id = top_rated_recipes[i - 1]['recipe_id']\n",
    "    name = recipes_raw.loc[recipes_raw['id'] == recipe_id]['name'].to_string(index= False)\n",
    "    print(name.upper())\n",
    "    print('Interactions:  ', top_rated_recipes[i - 1]['interactions_count'])\n",
    "    avg_rating = top_rated_recipes[i - 1]['avg_rating']\n",
    "    print(f'Average rating: {avg_rating:1.2f} / 5\\n')"
   ],
   "metadata": {
    "collapsed": false
   }
  },
  {
   "cell_type": "markdown",
   "source": [
    "We got exactly the expected result. So let's make the results more objective and let's set a threshold below which we will not consider results as valid. This could be some constant value (e.g. 20 or 50 ratings), but we want it to be prone to overall ratings number distribution. So let's check what does this distribution look like."
   ],
   "metadata": {
    "collapsed": false
   }
  },
  {
   "cell_type": "code",
   "execution_count": null,
   "outputs": [],
   "source": [
    "# Create distribution plot\n",
    "\n",
    "sns.kdeplot(data = recipe_stats['interactions_count'], log_scale = True, fill = True, cbar = True)\n",
    "plt.title('Interactions number distribution')\n",
    "plt.xlabel('Number of interactions (logarithmic scale)')"
   ],
   "metadata": {
    "collapsed": false
   }
  },
  {
   "cell_type": "code",
   "execution_count": null,
   "outputs": [],
   "source": [
    "# Print some statistical values\n",
    "\n",
    "data = recipe_stats['interactions_count']\n",
    "print('Number of recipes:', len(data))\n",
    "print('Median:    ', st.median(data))\n",
    "print('Quantiles: ', st.quantiles(data, n = 10))\n",
    "print('Mean value:', st.mean(data))"
   ],
   "metadata": {
    "collapsed": false
   }
  },
  {
   "cell_type": "markdown",
   "source": [
    "After having a look at the chart above and statistical data I decided to set the first threshold as >= 10 interactions, which will cut off majority of lowest popular recipes."
   ],
   "metadata": {
    "collapsed": false
   }
  },
  {
   "cell_type": "code",
   "execution_count": null,
   "outputs": [],
   "source": [
    "# Cut off recipes with less than 10 interactions and check how it worked\n",
    "\n",
    "top_rated_recipes = recipe_stats.copy()\n",
    "top_rated_recipes.sort(order = 'avg_rating')\n",
    "top_rated_recipes = top_rated_recipes[::-1]\n",
    "\n",
    "print('Number of recipes included:', len(top_rated_recipes))\n",
    "print('5 first elements, second column is number of interactions:')\n",
    "print(top_rated_recipes[0:5])\n",
    "\n",
    "print('\\n', '*'*50, '\\n')\n",
    "\n",
    "filter_array = []\n",
    "for element in top_rated_recipes:\n",
    "    if element['interactions_count'] >= 10:\n",
    "        filter_array.append(True)\n",
    "    else:\n",
    "        filter_array.append(False)\n",
    "top_rated_recipes = top_rated_recipes[filter_array]\n",
    "print('Number of recipes included:', len(top_rated_recipes))\n",
    "print('5 first elements, second column is number of interactions:')\n",
    "print(top_rated_recipes[0:5])"
   ],
   "metadata": {
    "collapsed": false
   }
  },
  {
   "cell_type": "markdown",
   "source": [
    "As we can see, setting minimum interactions count to just 10 interactions let us filter 90% of recipes. Let's check the distribution and statistical data now:"
   ],
   "metadata": {
    "collapsed": false
   }
  },
  {
   "cell_type": "code",
   "execution_count": null,
   "outputs": [],
   "source": [
    "# Create - again - distribution plot\n",
    "\n",
    "sns.kdeplot(data = top_rated_recipes['interactions_count'], log_scale = True, fill = True, cbar = True)\n",
    "plt.title('Interactions number distribution')\n",
    "plt.xlabel('Number of interactions (logarithmic scale)')"
   ],
   "metadata": {
    "collapsed": false
   }
  },
  {
   "cell_type": "code",
   "execution_count": null,
   "outputs": [],
   "source": [
    "# Print - again - some statistical values\n",
    "\n",
    "data = top_rated_recipes['interactions_count']\n",
    "print('Number of recipes:', len(data))\n",
    "print('Median:    ', st.median(data))\n",
    "print('Quantiles: ', st.quantiles(data, n=10))\n",
    "print('Mean value:', st.mean(data))"
   ],
   "metadata": {
    "collapsed": false
   }
  },
  {
   "cell_type": "markdown",
   "source": [
    "For now we can consider it as a decent outcome. Let's get our desired top recipe list!"
   ],
   "metadata": {
    "collapsed": false
   }
  },
  {
   "cell_type": "code",
   "execution_count": null,
   "outputs": [],
   "source": [
    "# Print top rated recipes\n",
    "\n",
    "for i in range(10, 0, -1):\n",
    "    print('Position ', i, ':', sep = '')\n",
    "    recipe_id = top_rated_recipes[i - 1]['recipe_id']\n",
    "    name = recipes_raw.loc[recipes_raw['id'] == recipe_id]['name'].to_string(index= False)\n",
    "    print(name.upper())\n",
    "    print('Interactions:  ', top_rated_recipes[i - 1]['interactions_count'])\n",
    "    avg_rating = top_rated_recipes[i - 1]['avg_rating']\n",
    "    print(f'Average rating: {avg_rating:1.2f} / 5\\n')"
   ],
   "metadata": {
    "collapsed": false
   }
  },
  {
   "cell_type": "markdown",
   "source": [
    "Ok, sorry for that - that's again a list of only-5-stars recipes. So let's filter it once again and check how it looks for at least 100 interactions:"
   ],
   "metadata": {
    "collapsed": false
   }
  },
  {
   "cell_type": "markdown",
   "source": [
    "<again?_again_meme>"
   ],
   "metadata": {
    "collapsed": false
   }
  },
  {
   "cell_type": "code",
   "execution_count": null,
   "outputs": [],
   "source": [
    "# Cut off recipes with less than 100 interactions and check how it worked\n",
    "\n",
    "print('Number of recipes included:', len(top_rated_recipes))\n",
    "print('5 first elements, second column is number of interactions:')\n",
    "print(top_rated_recipes[0:5])\n",
    "\n",
    "print('\\n', '*'*50, '\\n')\n",
    "\n",
    "filter_array = []\n",
    "for element in top_rated_recipes:\n",
    "    if element['interactions_count'] >= 100:\n",
    "        filter_array.append(True)\n",
    "    else:\n",
    "        filter_array.append(False)\n",
    "top_rated_recipes = top_rated_recipes[filter_array]\n",
    "print('Number of recipes included:', len(top_rated_recipes))\n",
    "print('5 first elements, second column is number of interactions:')\n",
    "print(top_rated_recipes[0:5])"
   ],
   "metadata": {
    "collapsed": false
   }
  },
  {
   "cell_type": "code",
   "execution_count": null,
   "outputs": [],
   "source": [
    "# Create - yes, again - distribution plot\n",
    "\n",
    "sns.kdeplot(data = top_rated_recipes['interactions_count'], log_scale = True, fill = True, cbar = True)\n",
    "plt.title('Interactions number distribution')\n",
    "plt.xlabel('Number of interactions (logarithmic scale)')"
   ],
   "metadata": {
    "collapsed": false
   }
  },
  {
   "cell_type": "code",
   "execution_count": null,
   "outputs": [],
   "source": [
    "# Print - yes, again - some statistical values\n",
    "\n",
    "data = top_rated_recipes['interactions_count']\n",
    "print('Number of recipes:', len(data))\n",
    "print('Median:    ', st.median(data))\n",
    "print('Quantiles: ', st.quantiles(data, n=10))\n",
    "print('Mean value:', st.mean(data))"
   ],
   "metadata": {
    "collapsed": false
   }
  },
  {
   "cell_type": "code",
   "execution_count": null,
   "outputs": [],
   "source": [
    "# Print top rated recipes\n",
    "\n",
    "for i in range(10, 0, -1):\n",
    "    print('Position ', i, ':', sep = '')\n",
    "    recipe_id = top_rated_recipes[i - 1]['recipe_id']\n",
    "    name = recipes_raw.loc[recipes_raw['id'] == recipe_id]['name'].to_string(index= False)\n",
    "    print(name.upper())\n",
    "    print('Interactions:  ', top_rated_recipes[i - 1]['interactions_count'])\n",
    "    avg_rating = top_rated_recipes[i - 1]['avg_rating']\n",
    "    print(f'Average rating: {avg_rating:1.2f} / 5\\n')"
   ],
   "metadata": {
    "collapsed": false
   }
  },
  {
   "cell_type": "markdown",
   "source": [
    "Now we got a really nice top recipes list, which means we can head to the supermarket for some tex-mex ingredients :)"
   ],
   "metadata": {
    "collapsed": false
   }
  },
  {
   "cell_type": "markdown",
   "source": [
    "## Recommendation tools"
   ],
   "metadata": {
    "collapsed": false
   }
  },
  {
   "cell_type": "markdown",
   "source": [
    "### Creating DataFrame for pivot table\n",
    "\n",
    "We will have to limit size of the table, because it would get too big to be processed by Pandas. To do so we will delete users with only one interaction and recipes also with only one interaction. These will be our steps:\n",
    " 1. Create a new DataFrame to aggregate interactions count for each recipe."
   ],
   "metadata": {
    "collapsed": false
   }
  },
  {
   "cell_type": "code",
   "execution_count": 75,
   "outputs": [],
   "source": [
    "# Step 1\n",
    "min_recipe_interactions = 10\n",
    "recipes_valid = interactions_raw['recipe_id'].value_counts()\n",
    "recipes_valid = recipes_valid[recipes_valid.ge(min_recipe_interactions)]\n",
    "interactions_valid = interactions_raw[interactions_raw['recipe_id'].isin(recipes_valid.index)]\n",
    "\n",
    "min_user_interactions = 3\n",
    "users_valid = interactions_raw['user_id'].value_counts()\n",
    "users_valid = users_valid[users_valid.ge(min_user_interactions)]\n",
    "interactions_valid = interactions_valid[interactions_valid['user_id'].isin(users_valid.index)]\n"
   ],
   "metadata": {
    "collapsed": false
   }
  },
  {
   "cell_type": "code",
   "execution_count": 76,
   "outputs": [
    {
     "name": "stdout",
     "output_type": "stream",
     "text": [
      "473751\n"
     ]
    },
    {
     "data": {
      "text/plain": "   user_id                 name  rating\n0    56680  potato crab chowder       5\n1   183565  potato crab chowder       5\n2   101823  potato crab chowder       5\n3   349752  potato crab chowder       5\n4   446143  potato crab chowder       4",
      "text/html": "<div>\n<style scoped>\n    .dataframe tbody tr th:only-of-type {\n        vertical-align: middle;\n    }\n\n    .dataframe tbody tr th {\n        vertical-align: top;\n    }\n\n    .dataframe thead th {\n        text-align: right;\n    }\n</style>\n<table border=\"1\" class=\"dataframe\">\n  <thead>\n    <tr style=\"text-align: right;\">\n      <th></th>\n      <th>user_id</th>\n      <th>name</th>\n      <th>rating</th>\n    </tr>\n  </thead>\n  <tbody>\n    <tr>\n      <th>0</th>\n      <td>56680</td>\n      <td>potato crab chowder</td>\n      <td>5</td>\n    </tr>\n    <tr>\n      <th>1</th>\n      <td>183565</td>\n      <td>potato crab chowder</td>\n      <td>5</td>\n    </tr>\n    <tr>\n      <th>2</th>\n      <td>101823</td>\n      <td>potato crab chowder</td>\n      <td>5</td>\n    </tr>\n    <tr>\n      <th>3</th>\n      <td>349752</td>\n      <td>potato crab chowder</td>\n      <td>5</td>\n    </tr>\n    <tr>\n      <th>4</th>\n      <td>446143</td>\n      <td>potato crab chowder</td>\n      <td>4</td>\n    </tr>\n  </tbody>\n</table>\n</div>"
     },
     "execution_count": 76,
     "metadata": {},
     "output_type": "execute_result"
    }
   ],
   "source": [
    "# Create a new DataFrame combining user id, recipe name and its rating\n",
    "\n",
    "rated_recipes = interactions_valid.merge(recipes_raw, left_on = 'recipe_id', right_on = 'id')\n",
    "rated_recipes = rated_recipes[['user_id', 'name', 'rating']]\n",
    "print(len(rated_recipes))\n",
    "rated_recipes.head()"
   ],
   "metadata": {
    "collapsed": false
   }
  },
  {
   "cell_type": "code",
   "execution_count": 77,
   "outputs": [
    {
     "data": {
      "text/plain": "name     1 00 tangy chicken recipe  1 1 1 tempura batter  \\\nuser_id                                                    \n1533                           NaN                   NaN   \n1535                           NaN                   NaN   \n1634                           NaN                   NaN   \n1676                           NaN                   NaN   \n1773                           NaN                   NaN   \n\nname     1 2 3 4  tater tot casserole  1 2 3 4 cake  \\\nuser_id                                               \n1533                              NaN           NaN   \n1535                              NaN           NaN   \n1634                              NaN           NaN   \n1676                              NaN           NaN   \n1773                              NaN           NaN   \n\nname     1 2 3 4 cake with caramel icing  1 2 3 apple crisp  \\\nuser_id                                                       \n1533                                 NaN                NaN   \n1535                                 NaN                NaN   \n1634                                 NaN                NaN   \n1676                                 NaN                NaN   \n1773                                 NaN                NaN   \n\nname     1 2 3 black bean salsa dip  1 cup of coffee pork roast  \\\nuser_id                                                           \n1533                            NaN                         NaN   \n1535                            NaN                         NaN   \n1634                            NaN                         NaN   \n1676                            NaN                         NaN   \n1773                            NaN                         NaN   \n\nname     1 hour ham and bean soup  1 minute cake  ...  zucchini spoon bread  \\\nuser_id                                           ...                         \n1533                          NaN            NaN  ...                   NaN   \n1535                          NaN            NaN  ...                   NaN   \n1634                          NaN            NaN  ...                   NaN   \n1676                          NaN            NaN  ...                   NaN   \n1773                          NaN            NaN  ...                   NaN   \n\nname     zucchini squash rice casserole  zucchini stuffing  \\\nuser_id                                                      \n1533                                NaN                NaN   \n1535                                NaN                NaN   \n1634                                NaN                NaN   \n1676                                NaN                NaN   \n1773                                NaN                NaN   \n\nname     zucchini tart with gruyere cheese and herbs  zucchini they will eat  \\\nuser_id                                                                        \n1533                                             NaN                     NaN   \n1535                                             NaN                     NaN   \n1634                                             NaN                     NaN   \n1676                                             NaN                     NaN   \n1773                                             NaN                     NaN   \n\nname     zucchini with summer herbs  zucotte  \\\nuser_id                                        \n1533                            NaN      NaN   \n1535                            NaN      NaN   \n1634                            NaN      NaN   \n1676                            NaN      NaN   \n1773                            NaN      NaN   \n\nname     zuppa di pesce  cioppino  or fish stew  \\\nuser_id                                           \n1533                                        NaN   \n1535                                        NaN   \n1634                                        NaN   \n1676                                        NaN   \n1773                                        NaN   \n\nname     zuppa toscana soup   olive garden clone  \\\nuser_id                                            \n1533                                         NaN   \n1535                                         NaN   \n1634                                         NaN   \n1676                                         NaN   \n1773                                         NaN   \n\nname     zurie s overnight no knead bread  \nuser_id                                    \n1533                                  NaN  \n1535                                  NaN  \n1634                                  NaN  \n1676                                  NaN  \n1773                                  NaN  \n\n[5 rows x 21329 columns]",
      "text/html": "<div>\n<style scoped>\n    .dataframe tbody tr th:only-of-type {\n        vertical-align: middle;\n    }\n\n    .dataframe tbody tr th {\n        vertical-align: top;\n    }\n\n    .dataframe thead th {\n        text-align: right;\n    }\n</style>\n<table border=\"1\" class=\"dataframe\">\n  <thead>\n    <tr style=\"text-align: right;\">\n      <th>name</th>\n      <th>1 00 tangy chicken recipe</th>\n      <th>1 1 1 tempura batter</th>\n      <th>1 2 3 4  tater tot casserole</th>\n      <th>1 2 3 4 cake</th>\n      <th>1 2 3 4 cake with caramel icing</th>\n      <th>1 2 3 apple crisp</th>\n      <th>1 2 3 black bean salsa dip</th>\n      <th>1 cup of coffee pork roast</th>\n      <th>1 hour ham and bean soup</th>\n      <th>1 minute cake</th>\n      <th>...</th>\n      <th>zucchini spoon bread</th>\n      <th>zucchini squash rice casserole</th>\n      <th>zucchini stuffing</th>\n      <th>zucchini tart with gruyere cheese and herbs</th>\n      <th>zucchini they will eat</th>\n      <th>zucchini with summer herbs</th>\n      <th>zucotte</th>\n      <th>zuppa di pesce  cioppino  or fish stew</th>\n      <th>zuppa toscana soup   olive garden clone</th>\n      <th>zurie s overnight no knead bread</th>\n    </tr>\n    <tr>\n      <th>user_id</th>\n      <th></th>\n      <th></th>\n      <th></th>\n      <th></th>\n      <th></th>\n      <th></th>\n      <th></th>\n      <th></th>\n      <th></th>\n      <th></th>\n      <th></th>\n      <th></th>\n      <th></th>\n      <th></th>\n      <th></th>\n      <th></th>\n      <th></th>\n      <th></th>\n      <th></th>\n      <th></th>\n      <th></th>\n    </tr>\n  </thead>\n  <tbody>\n    <tr>\n      <th>1533</th>\n      <td>NaN</td>\n      <td>NaN</td>\n      <td>NaN</td>\n      <td>NaN</td>\n      <td>NaN</td>\n      <td>NaN</td>\n      <td>NaN</td>\n      <td>NaN</td>\n      <td>NaN</td>\n      <td>NaN</td>\n      <td>...</td>\n      <td>NaN</td>\n      <td>NaN</td>\n      <td>NaN</td>\n      <td>NaN</td>\n      <td>NaN</td>\n      <td>NaN</td>\n      <td>NaN</td>\n      <td>NaN</td>\n      <td>NaN</td>\n      <td>NaN</td>\n    </tr>\n    <tr>\n      <th>1535</th>\n      <td>NaN</td>\n      <td>NaN</td>\n      <td>NaN</td>\n      <td>NaN</td>\n      <td>NaN</td>\n      <td>NaN</td>\n      <td>NaN</td>\n      <td>NaN</td>\n      <td>NaN</td>\n      <td>NaN</td>\n      <td>...</td>\n      <td>NaN</td>\n      <td>NaN</td>\n      <td>NaN</td>\n      <td>NaN</td>\n      <td>NaN</td>\n      <td>NaN</td>\n      <td>NaN</td>\n      <td>NaN</td>\n      <td>NaN</td>\n      <td>NaN</td>\n    </tr>\n    <tr>\n      <th>1634</th>\n      <td>NaN</td>\n      <td>NaN</td>\n      <td>NaN</td>\n      <td>NaN</td>\n      <td>NaN</td>\n      <td>NaN</td>\n      <td>NaN</td>\n      <td>NaN</td>\n      <td>NaN</td>\n      <td>NaN</td>\n      <td>...</td>\n      <td>NaN</td>\n      <td>NaN</td>\n      <td>NaN</td>\n      <td>NaN</td>\n      <td>NaN</td>\n      <td>NaN</td>\n      <td>NaN</td>\n      <td>NaN</td>\n      <td>NaN</td>\n      <td>NaN</td>\n    </tr>\n    <tr>\n      <th>1676</th>\n      <td>NaN</td>\n      <td>NaN</td>\n      <td>NaN</td>\n      <td>NaN</td>\n      <td>NaN</td>\n      <td>NaN</td>\n      <td>NaN</td>\n      <td>NaN</td>\n      <td>NaN</td>\n      <td>NaN</td>\n      <td>...</td>\n      <td>NaN</td>\n      <td>NaN</td>\n      <td>NaN</td>\n      <td>NaN</td>\n      <td>NaN</td>\n      <td>NaN</td>\n      <td>NaN</td>\n      <td>NaN</td>\n      <td>NaN</td>\n      <td>NaN</td>\n    </tr>\n    <tr>\n      <th>1773</th>\n      <td>NaN</td>\n      <td>NaN</td>\n      <td>NaN</td>\n      <td>NaN</td>\n      <td>NaN</td>\n      <td>NaN</td>\n      <td>NaN</td>\n      <td>NaN</td>\n      <td>NaN</td>\n      <td>NaN</td>\n      <td>...</td>\n      <td>NaN</td>\n      <td>NaN</td>\n      <td>NaN</td>\n      <td>NaN</td>\n      <td>NaN</td>\n      <td>NaN</td>\n      <td>NaN</td>\n      <td>NaN</td>\n      <td>NaN</td>\n      <td>NaN</td>\n    </tr>\n  </tbody>\n</table>\n<p>5 rows × 21329 columns</p>\n</div>"
     },
     "execution_count": 77,
     "metadata": {},
     "output_type": "execute_result"
    }
   ],
   "source": [
    "# Create pivot table to gather users and their ratings in one table\n",
    "\n",
    "pivot = pd.pivot_table(rated_recipes, values = 'rating', index = 'user_id', columns = 'name')\n",
    "pivot.head()"
   ],
   "metadata": {
    "collapsed": false
   }
  },
  {
   "cell_type": "markdown",
   "source": [
    "### Engineering pivot table\n",
    "\n",
    "We will do it in following steps:\n",
    "1. Value normalization\n",
    "2. Filling NaN values with 0\n",
    "3. Transposing the pivot for the next step\n",
    "4. Dropping columns with values of 0\n",
    "5. Using scipy package to convert to sparse matrix format for the similarity computation\n"
   ],
   "metadata": {
    "collapsed": false
   }
  },
  {
   "cell_type": "code",
   "execution_count": 79,
   "outputs": [],
   "source": [
    "# Step 1\n",
    "pivot_n = pivot.apply(lambda x: (x - np.mean(x)) / (np. max(x) - np.min(x)), axis = 1)\n",
    "# Step 2\n",
    "pivot_n.fillna(0, inplace = True)\n",
    "# Step 3\n",
    "pivot_n = pivot_n.T\n",
    "# Step 4\n",
    "pivot_n = pivot_n.loc[:, (pivot_n != 0).any(axis = 0)]\n",
    "# Step 5\n",
    "pivot_sparse = sp.sparse.csr_matrix(pivot_n.values)"
   ],
   "metadata": {
    "collapsed": false
   }
  },
  {
   "cell_type": "markdown",
   "source": [
    "## Cosine similarity model\n",
    "\n",
    "This method measures similarity of two vectors by calculating angle between them."
   ],
   "metadata": {
    "collapsed": false
   }
  },
  {
   "cell_type": "code",
   "execution_count": 82,
   "outputs": [],
   "source": [
    "# Model based on recipe similarity\n",
    "recipe_similarity = cosine_similarity(pivot_sparse)\n",
    "\n",
    "# DataFrame of recipes similarity\n",
    "recipe_similarity_df = pd.DataFrame(recipe_similarity, index = pivot_n.index, columns = pivot_n.index)"
   ],
   "metadata": {
    "collapsed": false
   }
  },
  {
   "cell_type": "code",
   "execution_count": 153,
   "outputs": [],
   "source": [
    "def recommend_recipe(liked_recipe):\n",
    "    recipe_similarity_df.sort_values(by = liked_recipe, ascending = False, inplace = True)\n",
    "    print('Recommmended, because you liked:', liked_recipe)\n",
    "    for number in range(1, 6):\n",
    "        recommended_recipe = recipe_similarity_df.index[number]\n",
    "        match = float(recipe_similarity_df.iloc[number][liked_recipe]) * 100\n",
    "        print(f'Top {number}: {recommended_recipe}, match: {match:2.2f} %')"
   ],
   "metadata": {
    "collapsed": false
   }
  },
  {
   "cell_type": "code",
   "execution_count": 181,
   "outputs": [
    {
     "name": "stdout",
     "output_type": "stream",
     "text": [
      "Recommmended, because you liked: lasagna spirals\n",
      "Top 1: garlic skillet potatoes, match: 49.12 %\n",
      "Top 2: banana  raisin  and oatmeal pancakes, match: 24.52 %\n",
      "Top 3: mini chicken cigars with sweet and sour dipping sauce, match: 19.93 %\n",
      "Top 4: sweet chicken skewers with a peanut dip, match: 17.41 %\n",
      "Top 5: julie s crock pot korma, match: 15.40 %\n"
     ]
    }
   ],
   "source": [
    "recommend_recipe('lasagna spirals')"
   ],
   "metadata": {
    "collapsed": false
   }
  },
  {
   "cell_type": "code",
   "execution_count": 176,
   "outputs": [],
   "source": [
    "def find_recipe(name):\n",
    "    found_recipes = []\n",
    "    for element in recipe_similarity_df.index:\n",
    "        if name in element:\n",
    "            found_recipes.append(element)\n",
    "\n",
    "    for element in found_recipes:\n",
    "        print(f'{element} - Rating: dopisać')"
   ],
   "metadata": {
    "collapsed": false
   }
  },
  {
   "cell_type": "code",
   "execution_count": 179,
   "outputs": [
    {
     "name": "stdout",
     "output_type": "stream",
     "text": [
      "lasagna spirals - Rating: dopisać\n",
      "lasagna in a skillet   in about 30 minutes - Rating: dopisać\n",
      "cheese ravioli lasagna alfredo - Rating: dopisać\n",
      "lasagna cupcakes - Rating: dopisać\n",
      "eggplant  aubergine  lasagna - Rating: dopisać\n",
      "easy lasagna rolls - Rating: dopisać\n",
      "karen s skillet lasagna - Rating: dopisać\n",
      "barilla no boil lasagna - Rating: dopisać\n",
      "lasagna style bow tie pasta - Rating: dopisać\n",
      "traditional lasagna - Rating: dopisać\n",
      "tastes like lasagna soup - Rating: dopisać\n",
      "last minute lasagna - Rating: dopisać\n",
      "absolute best ever lasagna - Rating: dopisać\n",
      "perogy lasagna  oamc - Rating: dopisać\n",
      "jo mama s world famous lasagna - Rating: dopisać\n",
      "the lady and sons lasagna   paula deen - Rating: dopisać\n",
      "wedding lasagna - Rating: dopisać\n",
      "our favorite lasagna - Rating: dopisać\n",
      "artichoke spinach lasagna - Rating: dopisać\n",
      "v s mexican lasagna - Rating: dopisać\n",
      "baked lasagna - Rating: dopisać\n",
      "easy lasagna   no ricotta - Rating: dopisać\n",
      "easy mac and cheese lasagna - Rating: dopisać\n",
      "chocolate lasagna - Rating: dopisać\n",
      "awesome lasagna  no boil  easy - Rating: dopisać\n",
      "bacon  n  egg lasagna - Rating: dopisać\n",
      "cream cheese lasagna - Rating: dopisać\n",
      "kittencal s easy lasagna - Rating: dopisać\n",
      "easy 5 ingredient vegetable lasagna - Rating: dopisać\n",
      "easy crock pot lasagna - Rating: dopisać\n",
      "creamy spinach mushroom lasagna - Rating: dopisać\n",
      "dad s lasagna - Rating: dopisać\n",
      "easy cheese lasagna ww - Rating: dopisać\n",
      "crock pot lasagna - Rating: dopisać\n",
      "beef lasagna - Rating: dopisać\n",
      "beautiful vegetable lasagna - Rating: dopisać\n",
      "breakfast lasagna - Rating: dopisać\n",
      "barefoot contessa s portabella mushroom lasagna - Rating: dopisać\n",
      "giada s lasagna rolls - Rating: dopisać\n",
      "engine 2 raise the roof sweet potato vegetarian lasagna - Rating: dopisać\n",
      "lazy ravioli lasagna - Rating: dopisać\n",
      "lazy lasagna - Rating: dopisać\n",
      "low fat lower carb turkey lasagna   whole wheat lasagna noodles - Rating: dopisać\n",
      "olive garden 5 cheese lasagna  copycat recipe - Rating: dopisać\n",
      "lasagna surprise - Rating: dopisać\n",
      "lasagna chips - Rating: dopisać\n",
      "lasagna casserole   fake lasagna - Rating: dopisać\n",
      "lasagna   cheese   soup - Rating: dopisać\n",
      "lasagna soup - Rating: dopisać\n",
      "matzoh lasagna - Rating: dopisać\n",
      "butternut squash lasagna - Rating: dopisać\n",
      "tofu lasagna filling  ricotta substitute - Rating: dopisać\n",
      "no cook lasagna - Rating: dopisać\n",
      "mexican chicken lasagna - Rating: dopisać\n",
      "mexican lasagna with black beans and corn - Rating: dopisać\n",
      "awesome crock pot lasagna - Rating: dopisać\n",
      "i lost my noodles  low carb south beach eggplant lasagna - Rating: dopisać\n",
      "lasagna supremo  the best lasagna ever - Rating: dopisać\n",
      "pampered chef taco lasagna - Rating: dopisać\n",
      "polenta lasagna with feta and kale - Rating: dopisać\n",
      "ravioli  lasagna - Rating: dopisać\n",
      "our lasagna - Rating: dopisać\n",
      "portabella mushroom with spinach and feta lasagna  vegetarian - Rating: dopisać\n",
      "pioneer woman lasagna - Rating: dopisać\n",
      "southwestern lasagna - Rating: dopisać\n",
      "spaghetti squash lasagna casserole  low carb - Rating: dopisać\n",
      "ravioli lasagna - Rating: dopisać\n",
      "chicken spinach lasagna casserole - Rating: dopisać\n",
      "slow cooker vegetarian lasagna - Rating: dopisać\n",
      "smaller lasagna for two - Rating: dopisać\n",
      "seafood lasagna rollups - Rating: dopisać\n",
      "spinach lasagna rolls - Rating: dopisać\n",
      "spinach mushroom lasagna roll ups with gorgonzola cream sauce - Rating: dopisać\n",
      "cheeeesy lasagna soup - Rating: dopisać\n",
      "white spinach lasagna - Rating: dopisać\n",
      "zucchini lasagna  lasagne    low carb - Rating: dopisać\n",
      "chicken cordon bleu lasagna - Rating: dopisać\n",
      "white sauce chicken lasagna - Rating: dopisać\n",
      "three meat lasagna - Rating: dopisać\n",
      "vegetable lasagna without the lasagna - Rating: dopisać\n",
      "vegetable lasagna - Rating: dopisać\n",
      "vegetable lasagna roll ups - Rating: dopisać\n",
      "vegetarian lasagna - Rating: dopisać\n",
      "vegetable lasagna alfredo - Rating: dopisać\n",
      "vegetable lasagna with a thick bechamel sauce - Rating: dopisać\n",
      "vegetable lasagna with white sauce - Rating: dopisać\n",
      "vegan veggie lasagna - Rating: dopisać\n",
      "world s best lasagna   bens modified - Rating: dopisać\n",
      "world s best lasagna - Rating: dopisać\n",
      "quick  quick  quick lasagna soup - Rating: dopisać\n",
      "ultimate no fail lasagna - Rating: dopisać\n",
      "you ll never miss the noodles  lasagna - Rating: dopisać\n",
      "easy way lasagna - Rating: dopisać\n",
      "italian white lasagna - Rating: dopisać\n",
      "layered zucchini lasagna no noodles - Rating: dopisać\n",
      "chicken cheese lasagna - Rating: dopisać\n",
      "sausage potato lasagna - Rating: dopisać\n",
      "lazy day overnight lasagna - Rating: dopisać\n",
      "on the go ravioli lasagna - Rating: dopisać\n"
     ]
    }
   ],
   "source": [
    "find_recipe('lasagna')"
   ],
   "metadata": {
    "collapsed": false
   }
  }
 ],
 "metadata": {
  "kernelspec": {
   "display_name": "Python 3",
   "language": "python",
   "name": "python3"
  },
  "language_info": {
   "codemirror_mode": {
    "name": "ipython",
    "version": 2
   },
   "file_extension": ".py",
   "mimetype": "text/x-python",
   "name": "python",
   "nbconvert_exporter": "python",
   "pygments_lexer": "ipython2",
   "version": "2.7.6"
  }
 },
 "nbformat": 4,
 "nbformat_minor": 0
}
