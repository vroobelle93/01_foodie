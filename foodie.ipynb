{
 "cells": [
  {
   "cell_type": "markdown",
   "source": [
    "# Hello\n",
    "I would like to present my very first data science project. Please do not be intimidated by its magnificence.\n",
    "This is a simple food recommendation project. It gives ideas of dishes basing on your favourite food.\n",
    "This is first project version, which works on a \"dead\" dataset. In other version the project will base on API and connect with website to search for recipes."
   ],
   "metadata": {
    "collapsed": false
   }
  },
  {
   "cell_type": "markdown",
   "source": [
    "## Libraries and knowledge"
   ],
   "metadata": {
    "collapsed": false
   }
  },
  {
   "cell_type": "code",
   "execution_count": null,
   "outputs": [],
   "source": [
    "import os\n",
    "import numpy as np # linear algebra and arrays\n",
    "import pandas as pd # dataframes and stuff\n",
    "import matplotlib.pyplot as plt # plots\n",
    "%matplotlib inline\n",
    "import seaborn as sns # more plots\n",
    "import statistics as st # distributions\n",
    "import scipy as sp # pivot engineering\n",
    "\n",
    "#ML model\n",
    "from sklearn.metrics.pairwise import cosine_similarity"
   ],
   "metadata": {
    "collapsed": false
   }
  },
  {
   "cell_type": "markdown",
   "source": [
    "## Data import and first glimpse into it"
   ],
   "metadata": {
    "collapsed": false
   }
  },
  {
   "cell_type": "markdown",
   "source": [
    "### Users\n",
    "u - UserID\n",
    "techniques - Cooking techniques encountered by user\n",
    "items - Recipes interacted with, in order\n",
    "n_items - Number of recipes reviewed\n",
    "ratings - Ratings given to each recipe encountered by this user\n",
    "n_ratings - Number of ratings in total"
   ],
   "metadata": {
    "collapsed": false
   }
  },
  {
   "cell_type": "code",
   "execution_count": null,
   "outputs": [],
   "source": [
    "users_pp = pd.read_csv('archive/PP_users.csv')\n",
    "users_pp.info()\n",
    "users_pp.head()"
   ],
   "metadata": {
    "collapsed": false
   }
  },
  {
   "cell_type": "markdown",
   "source": [
    "### Recipes - preprocessed data\n",
    "id - Recipe ID\n",
    "i - Recipe ID mapped to contiguous integers from 0\n",
    "name_tokens - BPE-tokenized recipe name\n",
    "ingredient_tokens - BPE-tokenized ingredients list (list of lists)\n",
    "steps_tokens - BPE-tokenized steps\n",
    "techniques - List of techniques used in recipe\n",
    "calorie_level - Calorie level in ascending order\n",
    "ingredients_ids - IDs of ingredients in recipe"
   ],
   "metadata": {
    "collapsed": false
   }
  },
  {
   "cell_type": "code",
   "execution_count": null,
   "outputs": [],
   "source": [
    "recipes_pp = pd.read_csv('archive/PP_recipes.csv')\n",
    "recipes_pp.info()\n",
    "recipes_pp.head()"
   ],
   "metadata": {
    "collapsed": false
   }
  },
  {
   "cell_type": "markdown",
   "source": [
    "### Recipes - raw data\n",
    "name - Recipe name\n",
    "id - Recipe ID\n",
    "minutes - Minutes to prepare recipe\n",
    "contributor_id - User ID who submitted this recipe\n",
    "submitted - Date recipe was submitted\n",
    "tags - Food.com tags for recipe\n",
    "nutrition - Nutrition information (calories (#), total fat (PDV), sugar (PDV) , sodium (PDV) , protein (PDV) , saturated fat\n",
    "steps - Text for recipe steps, in order\n",
    "description - User-provided description"
   ],
   "metadata": {
    "collapsed": false
   }
  },
  {
   "cell_type": "code",
   "execution_count": null,
   "outputs": [],
   "source": [
    "recipes_raw = pd.read_csv('archive/RAW_recipes.csv')\n",
    "recipes_raw.info()\n",
    "recipes_raw.head()"
   ],
   "metadata": {
    "collapsed": false
   }
  },
  {
   "cell_type": "markdown",
   "source": [
    "### Interactions\n",
    "user_id - User ID\n",
    "recipe_id - Recipe ID\n",
    "date - Date of interaction\n",
    "rating - Rating given\n",
    "review - Review text"
   ],
   "metadata": {
    "collapsed": false
   }
  },
  {
   "cell_type": "code",
   "execution_count": 21,
   "outputs": [
    {
     "name": "stdout",
     "output_type": "stream",
     "text": [
      "<class 'pandas.core.frame.DataFrame'>\n",
      "RangeIndex: 1132367 entries, 0 to 1132366\n",
      "Data columns (total 5 columns):\n",
      " #   Column     Non-Null Count    Dtype \n",
      "---  ------     --------------    ----- \n",
      " 0   user_id    1132367 non-null  int64 \n",
      " 1   recipe_id  1132367 non-null  int64 \n",
      " 2   date       1132367 non-null  object\n",
      " 3   rating     1132367 non-null  int64 \n",
      " 4   review     1132198 non-null  object\n",
      "dtypes: int64(3), object(2)\n",
      "memory usage: 43.2+ MB\n"
     ]
    },
    {
     "data": {
      "text/plain": "   user_id  recipe_id        date  rating  \\\n0    38094      40893  2003-02-17       4   \n1  1293707      40893  2011-12-21       5   \n2     8937      44394  2002-12-01       4   \n3   126440      85009  2010-02-27       5   \n4    57222      85009  2011-10-01       5   \n\n                                              review  \n0  Great with a salad. Cooked on top of stove for...  \n1  So simple, so delicious! Great for chilly fall...  \n2  This worked very well and is EASY.  I used not...  \n3  I made the Mexican topping and took it to bunk...  \n4  Made the cheddar bacon topping, adding a sprin...  ",
      "text/html": "<div>\n<style scoped>\n    .dataframe tbody tr th:only-of-type {\n        vertical-align: middle;\n    }\n\n    .dataframe tbody tr th {\n        vertical-align: top;\n    }\n\n    .dataframe thead th {\n        text-align: right;\n    }\n</style>\n<table border=\"1\" class=\"dataframe\">\n  <thead>\n    <tr style=\"text-align: right;\">\n      <th></th>\n      <th>user_id</th>\n      <th>recipe_id</th>\n      <th>date</th>\n      <th>rating</th>\n      <th>review</th>\n    </tr>\n  </thead>\n  <tbody>\n    <tr>\n      <th>0</th>\n      <td>38094</td>\n      <td>40893</td>\n      <td>2003-02-17</td>\n      <td>4</td>\n      <td>Great with a salad. Cooked on top of stove for...</td>\n    </tr>\n    <tr>\n      <th>1</th>\n      <td>1293707</td>\n      <td>40893</td>\n      <td>2011-12-21</td>\n      <td>5</td>\n      <td>So simple, so delicious! Great for chilly fall...</td>\n    </tr>\n    <tr>\n      <th>2</th>\n      <td>8937</td>\n      <td>44394</td>\n      <td>2002-12-01</td>\n      <td>4</td>\n      <td>This worked very well and is EASY.  I used not...</td>\n    </tr>\n    <tr>\n      <th>3</th>\n      <td>126440</td>\n      <td>85009</td>\n      <td>2010-02-27</td>\n      <td>5</td>\n      <td>I made the Mexican topping and took it to bunk...</td>\n    </tr>\n    <tr>\n      <th>4</th>\n      <td>57222</td>\n      <td>85009</td>\n      <td>2011-10-01</td>\n      <td>5</td>\n      <td>Made the cheddar bacon topping, adding a sprin...</td>\n    </tr>\n  </tbody>\n</table>\n</div>"
     },
     "execution_count": 21,
     "metadata": {},
     "output_type": "execute_result"
    }
   ],
   "source": [
    "interactions_raw = pd.read_csv('archive/RAW_interactions.csv')\n",
    "interactions_raw.dropna()\n",
    "interactions_raw.info()\n",
    "interactions_raw.head()"
   ],
   "metadata": {
    "collapsed": false
   }
  },
  {
   "cell_type": "markdown",
   "source": [
    "## Data analysis"
   ],
   "metadata": {
    "collapsed": false
   }
  },
  {
   "cell_type": "markdown",
   "source": [
    "### Most often rated recipes\n",
    "\n",
    "I am gonna do it using lists, where list indexes will be recipe ids. This requires creating lists longer by one than maximum recipe_id, so that recipe_id can directly match list index.\n",
    "Having it done I will create a structured array as in formula:\n",
    "[(recipe_id, interactions_count, average_rating), ...]"
   ],
   "metadata": {
    "collapsed": false
   }
  },
  {
   "cell_type": "code",
   "execution_count": null,
   "outputs": [],
   "source": [
    "# Create lists for interactions count and sum of rates\n",
    "interactions_count = [0] * (max(recipes_raw['id'].values) + 1)\n",
    "ratings_sum = [0] * (max(recipes_raw['id'].values) + 1)\n",
    "\n",
    "# Fill the lists\n",
    "for row_index, row in interactions_raw.iterrows():\n",
    "    recipe_id = interactions_raw.loc[row_index]['recipe_id']\n",
    "    rating = interactions_raw.loc[row_index]['rating']\n",
    "    interactions_count[recipe_id] += 1\n",
    "    ratings_sum[recipe_id] += rating"
   ],
   "metadata": {
    "collapsed": false
   }
  },
  {
   "cell_type": "code",
   "execution_count": null,
   "outputs": [],
   "source": [
    "# Create a structured array to store the recipes stats\n",
    "array_structure = [('recipe_id', int), ('interactions_count', int), ('avg_rating', float)]\n",
    "array_values = []\n",
    "\n",
    "for recipe_id in recipes_raw['id'].values:\n",
    "    interactions_number = interactions_count[recipe_id]\n",
    "    avg_rating = ratings_sum[recipe_id] / interactions_count[recipe_id]\n",
    "    array_values.append((recipe_id, interactions_number, avg_rating))\n",
    "recipe_stats = np.array(array_values, dtype = array_structure)"
   ],
   "metadata": {
    "collapsed": false
   }
  },
  {
   "cell_type": "code",
   "execution_count": null,
   "outputs": [],
   "source": [
    "# Find 10 most often rated recipes\n",
    "most_often_recipes = recipe_stats.copy()\n",
    "most_often_recipes.sort(order = 'interactions_count')\n",
    "most_often_recipes = most_often_recipes[::-1]\n",
    "\n",
    "for i in range(10, 0, -1):\n",
    "    print('Position ', i, ':', sep = '')\n",
    "    recipe_id = most_often_recipes[i - 1]['recipe_id']\n",
    "    name = recipes_raw.loc[recipes_raw['id'] == recipe_id]['name'].to_string(index= False)\n",
    "    print(name.upper())\n",
    "    print('Interactions:  ', most_often_recipes[i - 1]['interactions_count'])\n",
    "    avg_rating = most_often_recipes[i - 1]['avg_rating']\n",
    "    print(f'Average rating: {avg_rating:1.2f} / 5\\n')"
   ],
   "metadata": {
    "collapsed": false
   }
  },
  {
   "cell_type": "markdown",
   "source": [
    "### Highest rated recipes\n",
    "At this point I would like to find recipes with highest average rating, but this would probably return a lot of recipes with just one, 5-stars mark."
   ],
   "metadata": {
    "collapsed": false
   }
  },
  {
   "cell_type": "code",
   "execution_count": null,
   "outputs": [],
   "source": [
    "# Find 10 top rated recipes\n",
    "\n",
    "top_rated_recipes = recipe_stats.copy()\n",
    "top_rated_recipes.sort(order = 'avg_rating')\n",
    "top_rated_recipes = top_rated_recipes[::-1]\n",
    "\n",
    "for i in range(10, 0, -1):\n",
    "    print('Position ', i, ':', sep = '')\n",
    "    recipe_id = top_rated_recipes[i - 1]['recipe_id']\n",
    "    name = recipes_raw.loc[recipes_raw['id'] == recipe_id]['name'].to_string(index= False)\n",
    "    print(name.upper())\n",
    "    print('Interactions:  ', top_rated_recipes[i - 1]['interactions_count'])\n",
    "    avg_rating = top_rated_recipes[i - 1]['avg_rating']\n",
    "    print(f'Average rating: {avg_rating:1.2f} / 5\\n')"
   ],
   "metadata": {
    "collapsed": false
   }
  },
  {
   "cell_type": "markdown",
   "source": [
    "We got exactly the expected result. So let's make the results more objective and let's set a threshold below which we will not consider results as valid. This could be some constant value (e.g. 20 or 50 ratings), but we want it to be prone to overall ratings number distribution. So let's check what does this distribution look like."
   ],
   "metadata": {
    "collapsed": false
   }
  },
  {
   "cell_type": "code",
   "execution_count": null,
   "outputs": [],
   "source": [
    "# Create distribution plot\n",
    "\n",
    "sns.kdeplot(data = recipe_stats['interactions_count'], log_scale = True, fill = True, cbar = True)\n",
    "plt.title('Interactions number distribution')\n",
    "plt.xlabel('Number of interactions (logarithmic scale)')"
   ],
   "metadata": {
    "collapsed": false
   }
  },
  {
   "cell_type": "code",
   "execution_count": null,
   "outputs": [],
   "source": [
    "# Print some statistical values\n",
    "\n",
    "data = recipe_stats['interactions_count']\n",
    "print('Number of recipes:', len(data))\n",
    "print('Median:    ', st.median(data))\n",
    "print('Quantiles: ', st.quantiles(data, n = 10))\n",
    "print('Mean value:', st.mean(data))"
   ],
   "metadata": {
    "collapsed": false
   }
  },
  {
   "cell_type": "markdown",
   "source": [
    "After having a look at the chart above and statistical data I decided to set the first threshold as >= 10 interactions, which will cut off majority of lowest popular recipes."
   ],
   "metadata": {
    "collapsed": false
   }
  },
  {
   "cell_type": "code",
   "execution_count": null,
   "outputs": [],
   "source": [
    "# Cut off recipes with less than 10 interactions and check how it worked\n",
    "\n",
    "top_rated_recipes = recipe_stats.copy()\n",
    "top_rated_recipes.sort(order = 'avg_rating')\n",
    "top_rated_recipes = top_rated_recipes[::-1]\n",
    "\n",
    "print('Number of recipes included:', len(top_rated_recipes))\n",
    "print('5 first elements, second column is number of interactions:')\n",
    "print(top_rated_recipes[0:5])\n",
    "\n",
    "print('\\n', '*'*50, '\\n')\n",
    "\n",
    "filter_array = []\n",
    "for element in top_rated_recipes:\n",
    "    if element['interactions_count'] >= 10:\n",
    "        filter_array.append(True)\n",
    "    else:\n",
    "        filter_array.append(False)\n",
    "top_rated_recipes = top_rated_recipes[filter_array]\n",
    "print('Number of recipes included:', len(top_rated_recipes))\n",
    "print('5 first elements, second column is number of interactions:')\n",
    "print(top_rated_recipes[0:5])"
   ],
   "metadata": {
    "collapsed": false
   }
  },
  {
   "cell_type": "markdown",
   "source": [
    "As we can see, setting minimum interactions count to just 10 interactions let us filter 90% of recipes. Let's check the distribution and statistical data now:"
   ],
   "metadata": {
    "collapsed": false
   }
  },
  {
   "cell_type": "code",
   "execution_count": null,
   "outputs": [],
   "source": [
    "# Create - again - distribution plot\n",
    "\n",
    "sns.kdeplot(data = top_rated_recipes['interactions_count'], log_scale = True, fill = True, cbar = True)\n",
    "plt.title('Interactions number distribution')\n",
    "plt.xlabel('Number of interactions (logarithmic scale)')"
   ],
   "metadata": {
    "collapsed": false
   }
  },
  {
   "cell_type": "code",
   "execution_count": null,
   "outputs": [],
   "source": [
    "# Print - again - some statistical values\n",
    "\n",
    "data = top_rated_recipes['interactions_count']\n",
    "print('Number of recipes:', len(data))\n",
    "print('Median:    ', st.median(data))\n",
    "print('Quantiles: ', st.quantiles(data, n=10))\n",
    "print('Mean value:', st.mean(data))"
   ],
   "metadata": {
    "collapsed": false
   }
  },
  {
   "cell_type": "markdown",
   "source": [
    "For now we can consider it as a decent outcome. Let's get our desired top recipe list!"
   ],
   "metadata": {
    "collapsed": false
   }
  },
  {
   "cell_type": "code",
   "execution_count": null,
   "outputs": [],
   "source": [
    "# Print top rated recipes\n",
    "\n",
    "for i in range(10, 0, -1):\n",
    "    print('Position ', i, ':', sep = '')\n",
    "    recipe_id = top_rated_recipes[i - 1]['recipe_id']\n",
    "    name = recipes_raw.loc[recipes_raw['id'] == recipe_id]['name'].to_string(index= False)\n",
    "    print(name.upper())\n",
    "    print('Interactions:  ', top_rated_recipes[i - 1]['interactions_count'])\n",
    "    avg_rating = top_rated_recipes[i - 1]['avg_rating']\n",
    "    print(f'Average rating: {avg_rating:1.2f} / 5\\n')"
   ],
   "metadata": {
    "collapsed": false
   }
  },
  {
   "cell_type": "markdown",
   "source": [
    "Ok, sorry for that - that's again a list of only-5-stars recipes. So let's filter it once again and check how it looks for at least 100 interactions:"
   ],
   "metadata": {
    "collapsed": false
   }
  },
  {
   "cell_type": "markdown",
   "source": [
    "<again?_again_meme>"
   ],
   "metadata": {
    "collapsed": false
   }
  },
  {
   "cell_type": "code",
   "execution_count": null,
   "outputs": [],
   "source": [
    "# Cut off recipes with less than 100 interactions and check how it worked\n",
    "\n",
    "print('Number of recipes included:', len(top_rated_recipes))\n",
    "print('5 first elements, second column is number of interactions:')\n",
    "print(top_rated_recipes[0:5])\n",
    "\n",
    "print('\\n', '*'*50, '\\n')\n",
    "\n",
    "filter_array = []\n",
    "for element in top_rated_recipes:\n",
    "    if element['interactions_count'] >= 100:\n",
    "        filter_array.append(True)\n",
    "    else:\n",
    "        filter_array.append(False)\n",
    "top_rated_recipes = top_rated_recipes[filter_array]\n",
    "print('Number of recipes included:', len(top_rated_recipes))\n",
    "print('5 first elements, second column is number of interactions:')\n",
    "print(top_rated_recipes[0:5])"
   ],
   "metadata": {
    "collapsed": false
   }
  },
  {
   "cell_type": "code",
   "execution_count": null,
   "outputs": [],
   "source": [
    "# Create - yes, again - distribution plot\n",
    "\n",
    "sns.kdeplot(data = top_rated_recipes['interactions_count'], log_scale = True, fill = True, cbar = True)\n",
    "plt.title('Interactions number distribution')\n",
    "plt.xlabel('Number of interactions (logarithmic scale)')"
   ],
   "metadata": {
    "collapsed": false
   }
  },
  {
   "cell_type": "code",
   "execution_count": null,
   "outputs": [],
   "source": [
    "# Print - yes, again - some statistical values\n",
    "\n",
    "data = top_rated_recipes['interactions_count']\n",
    "print('Number of recipes:', len(data))\n",
    "print('Median:    ', st.median(data))\n",
    "print('Quantiles: ', st.quantiles(data, n=10))\n",
    "print('Mean value:', st.mean(data))"
   ],
   "metadata": {
    "collapsed": false
   }
  },
  {
   "cell_type": "code",
   "execution_count": null,
   "outputs": [],
   "source": [
    "# Print top rated recipes\n",
    "\n",
    "for i in range(10, 0, -1):\n",
    "    print('Position ', i, ':', sep = '')\n",
    "    recipe_id = top_rated_recipes[i - 1]['recipe_id']\n",
    "    name = recipes_raw.loc[recipes_raw['id'] == recipe_id]['name'].to_string(index= False)\n",
    "    print(name.upper())\n",
    "    print('Interactions:  ', top_rated_recipes[i - 1]['interactions_count'])\n",
    "    avg_rating = top_rated_recipes[i - 1]['avg_rating']\n",
    "    print(f'Average rating: {avg_rating:1.2f} / 5\\n')"
   ],
   "metadata": {
    "collapsed": false
   }
  },
  {
   "cell_type": "markdown",
   "source": [
    "Now we got a really nice top recipes list, which means we can head to the supermarket for some tex-mex ingredients :)"
   ],
   "metadata": {
    "collapsed": false
   }
  },
  {
   "cell_type": "markdown",
   "source": [
    "## Recommendation tools"
   ],
   "metadata": {
    "collapsed": false
   }
  },
  {
   "cell_type": "markdown",
   "source": [
    "### Creating DataFrame for pivot table"
   ],
   "metadata": {
    "collapsed": false
   }
  },
  {
   "cell_type": "code",
   "execution_count": null,
   "outputs": [],
   "source": [],
   "metadata": {
    "collapsed": false
   }
  }
 ],
 "metadata": {
  "kernelspec": {
   "display_name": "Python 3",
   "language": "python",
   "name": "python3"
  },
  "language_info": {
   "codemirror_mode": {
    "name": "ipython",
    "version": 2
   },
   "file_extension": ".py",
   "mimetype": "text/x-python",
   "name": "python",
   "nbconvert_exporter": "python",
   "pygments_lexer": "ipython2",
   "version": "2.7.6"
  }
 },
 "nbformat": 4,
 "nbformat_minor": 0
}
