{
 "cells": [
  {
   "cell_type": "markdown",
   "source": [
    "# Hello\n",
    "I would like to present my very first data science project. Please do not be intimidated by its magnificence.\n",
    "This is a simple food recommendation project. It gives ideas of dishes basing on your favourite food.\n",
    "This is first project version, which works on a \"dead\" dataset. In other version the project will base on API and connect with website to search for recipes."
   ],
   "metadata": {
    "collapsed": false
   }
  },
  {
   "cell_type": "markdown",
   "source": [
    "## Libraries and knowledge"
   ],
   "metadata": {
    "collapsed": false
   }
  },
  {
   "cell_type": "code",
   "execution_count": 40,
   "outputs": [],
   "source": [
    "import os\n",
    "import numpy as np # linear algebra and arrays\n",
    "import pandas as pd # dataframes and stuff\n",
    "import matplotlib.pyplot as plt # plots\n",
    "%matplotlib inline\n",
    "import seaborn as sns # more plots\n",
    "import statistics as st # distributions\n",
    "import scipy as sp # pivot engineering\n",
    "\n",
    "#ML model\n",
    "from sklearn.metrics.pairwise import cosine_similarity"
   ],
   "metadata": {
    "collapsed": false
   }
  },
  {
   "cell_type": "markdown",
   "source": [
    "## Data import and first glimpse into it"
   ],
   "metadata": {
    "collapsed": false
   }
  },
  {
   "cell_type": "markdown",
   "source": [
    "### Users\n",
    "u - UserID\n",
    "techniques - Cooking techniques encountered by user\n",
    "items - Recipes interacted with, in order\n",
    "n_items - Number of recipes reviewed\n",
    "ratings - Ratings given to each recipe encountered by this user\n",
    "n_ratings - Number of ratings in total"
   ],
   "metadata": {
    "collapsed": false
   }
  },
  {
   "cell_type": "code",
   "execution_count": 3,
   "outputs": [
    {
     "name": "stdout",
     "output_type": "stream",
     "text": [
      "<class 'pandas.core.frame.DataFrame'>\n",
      "RangeIndex: 25076 entries, 0 to 25075\n",
      "Data columns (total 6 columns):\n",
      " #   Column      Non-Null Count  Dtype \n",
      "---  ------      --------------  ----- \n",
      " 0   u           25076 non-null  int64 \n",
      " 1   techniques  25076 non-null  object\n",
      " 2   items       25076 non-null  object\n",
      " 3   n_items     25076 non-null  int64 \n",
      " 4   ratings     25076 non-null  object\n",
      " 5   n_ratings   25076 non-null  int64 \n",
      "dtypes: int64(3), object(3)\n",
      "memory usage: 1.1+ MB\n"
     ]
    },
    {
     "data": {
      "text/plain": "   u                                         techniques  \\\n0  0  [8, 0, 0, 5, 6, 0, 0, 1, 0, 9, 1, 0, 0, 0, 1, ...   \n1  1  [11, 0, 0, 2, 12, 0, 0, 0, 0, 14, 5, 0, 0, 0, ...   \n2  2  [13, 0, 0, 7, 5, 0, 1, 2, 1, 11, 0, 1, 0, 0, 1...   \n3  3  [498, 13, 4, 218, 376, 3, 2, 33, 16, 591, 10, ...   \n4  4  [161, 1, 1, 86, 93, 0, 0, 11, 2, 141, 0, 16, 0...   \n\n                                               items  n_items  \\\n0  [1118, 27680, 32541, 137353, 16428, 28815, 658...       31   \n1  [122140, 77036, 156817, 76957, 68818, 155600, ...       39   \n2  [168054, 87218, 35731, 1, 20475, 9039, 124834,...       27   \n3  [163193, 156352, 102888, 19914, 169438, 55772,...     1513   \n4  [72857, 38652, 160427, 55772, 119999, 141777, ...      376   \n\n                                             ratings  n_ratings  \n0  [5.0, 5.0, 5.0, 5.0, 5.0, 5.0, 5.0, 4.0, 4.0, ...         31  \n1  [5.0, 5.0, 5.0, 5.0, 5.0, 5.0, 5.0, 5.0, 5.0, ...         39  \n2  [3.0, 4.0, 4.0, 4.0, 4.0, 4.0, 4.0, 4.0, 5.0, ...         27  \n3  [5.0, 5.0, 5.0, 5.0, 4.0, 4.0, 5.0, 5.0, 5.0, ...       1513  \n4  [5.0, 5.0, 5.0, 5.0, 4.0, 4.0, 5.0, 4.0, 5.0, ...        376  ",
      "text/html": "<div>\n<style scoped>\n    .dataframe tbody tr th:only-of-type {\n        vertical-align: middle;\n    }\n\n    .dataframe tbody tr th {\n        vertical-align: top;\n    }\n\n    .dataframe thead th {\n        text-align: right;\n    }\n</style>\n<table border=\"1\" class=\"dataframe\">\n  <thead>\n    <tr style=\"text-align: right;\">\n      <th></th>\n      <th>u</th>\n      <th>techniques</th>\n      <th>items</th>\n      <th>n_items</th>\n      <th>ratings</th>\n      <th>n_ratings</th>\n    </tr>\n  </thead>\n  <tbody>\n    <tr>\n      <th>0</th>\n      <td>0</td>\n      <td>[8, 0, 0, 5, 6, 0, 0, 1, 0, 9, 1, 0, 0, 0, 1, ...</td>\n      <td>[1118, 27680, 32541, 137353, 16428, 28815, 658...</td>\n      <td>31</td>\n      <td>[5.0, 5.0, 5.0, 5.0, 5.0, 5.0, 5.0, 4.0, 4.0, ...</td>\n      <td>31</td>\n    </tr>\n    <tr>\n      <th>1</th>\n      <td>1</td>\n      <td>[11, 0, 0, 2, 12, 0, 0, 0, 0, 14, 5, 0, 0, 0, ...</td>\n      <td>[122140, 77036, 156817, 76957, 68818, 155600, ...</td>\n      <td>39</td>\n      <td>[5.0, 5.0, 5.0, 5.0, 5.0, 5.0, 5.0, 5.0, 5.0, ...</td>\n      <td>39</td>\n    </tr>\n    <tr>\n      <th>2</th>\n      <td>2</td>\n      <td>[13, 0, 0, 7, 5, 0, 1, 2, 1, 11, 0, 1, 0, 0, 1...</td>\n      <td>[168054, 87218, 35731, 1, 20475, 9039, 124834,...</td>\n      <td>27</td>\n      <td>[3.0, 4.0, 4.0, 4.0, 4.0, 4.0, 4.0, 4.0, 5.0, ...</td>\n      <td>27</td>\n    </tr>\n    <tr>\n      <th>3</th>\n      <td>3</td>\n      <td>[498, 13, 4, 218, 376, 3, 2, 33, 16, 591, 10, ...</td>\n      <td>[163193, 156352, 102888, 19914, 169438, 55772,...</td>\n      <td>1513</td>\n      <td>[5.0, 5.0, 5.0, 5.0, 4.0, 4.0, 5.0, 5.0, 5.0, ...</td>\n      <td>1513</td>\n    </tr>\n    <tr>\n      <th>4</th>\n      <td>4</td>\n      <td>[161, 1, 1, 86, 93, 0, 0, 11, 2, 141, 0, 16, 0...</td>\n      <td>[72857, 38652, 160427, 55772, 119999, 141777, ...</td>\n      <td>376</td>\n      <td>[5.0, 5.0, 5.0, 5.0, 4.0, 4.0, 5.0, 4.0, 5.0, ...</td>\n      <td>376</td>\n    </tr>\n  </tbody>\n</table>\n</div>"
     },
     "execution_count": 3,
     "metadata": {},
     "output_type": "execute_result"
    }
   ],
   "source": [
    "users_pp = pd.read_csv('archive/PP_users.csv')\n",
    "users_pp.info()\n",
    "users_pp.head()"
   ],
   "metadata": {
    "collapsed": false
   }
  },
  {
   "cell_type": "markdown",
   "source": [
    "### Recipes - preprocessed data\n",
    "id - Recipe ID\n",
    "i - Recipe ID mapped to contiguous integers from 0\n",
    "name_tokens - BPE-tokenized recipe name\n",
    "ingredient_tokens - BPE-tokenized ingredients list (list of lists)\n",
    "steps_tokens - BPE-tokenized steps\n",
    "techniques - List of techniques used in recipe\n",
    "calorie_level - Calorie level in ascending order\n",
    "ingredients_ids - IDs of ingredients in recipe"
   ],
   "metadata": {
    "collapsed": false
   }
  },
  {
   "cell_type": "code",
   "execution_count": 4,
   "outputs": [
    {
     "name": "stdout",
     "output_type": "stream",
     "text": [
      "<class 'pandas.core.frame.DataFrame'>\n",
      "RangeIndex: 178265 entries, 0 to 178264\n",
      "Data columns (total 8 columns):\n",
      " #   Column             Non-Null Count   Dtype \n",
      "---  ------             --------------   ----- \n",
      " 0   id                 178265 non-null  int64 \n",
      " 1   i                  178265 non-null  int64 \n",
      " 2   name_tokens        178265 non-null  object\n",
      " 3   ingredient_tokens  178265 non-null  object\n",
      " 4   steps_tokens       178265 non-null  object\n",
      " 5   techniques         178265 non-null  object\n",
      " 6   calorie_level      178265 non-null  int64 \n",
      " 7   ingredient_ids     178265 non-null  object\n",
      "dtypes: int64(3), object(5)\n",
      "memory usage: 10.9+ MB\n"
     ]
    },
    {
     "data": {
      "text/plain": "       id       i                                        name_tokens  \\\n0  424415      23  [40480, 37229, 2911, 1019, 249, 6878, 6878, 28...   \n1  146223   96900       [40480, 18376, 7056, 246, 1531, 2032, 40481]   \n2  312329  120056     [40480, 21044, 16954, 8294, 556, 10837, 40481]   \n3   74301  168258                       [40480, 10025, 31156, 40481]   \n4   76272  109030  [40480, 17841, 252, 782, 2373, 1641, 2373, 252...   \n\n                                   ingredient_tokens  \\\n0  [[2911, 1019, 249, 6878], [1353], [6953], [153...   \n1  [[17918], [25916], [2507, 6444], [8467, 1179],...   \n2  [[5867, 24176], [1353], [6953], [1301, 11332],...   \n3  [[1270, 1645, 28447], [21601], [27952, 29471, ...   \n4  [[1430, 11434], [1430, 17027], [1615, 23, 695,...   \n\n                                        steps_tokens  \\\n0  [40480, 40482, 21662, 481, 6878, 500, 246, 161...   \n1  [40480, 40482, 729, 2525, 10906, 485, 43, 8393...   \n2  [40480, 40482, 8240, 481, 24176, 296, 1353, 66...   \n3  [40480, 40482, 5539, 21601, 1073, 903, 2324, 4...   \n4  [40480, 40482, 14046, 1430, 11434, 488, 17027,...   \n\n                                          techniques  calorie_level  \\\n0  [0, 0, 0, 0, 0, 0, 0, 0, 0, 1, 0, 0, 0, 0, 0, ...              0   \n1  [1, 0, 0, 0, 0, 0, 0, 0, 0, 1, 0, 0, 0, 0, 0, ...              0   \n2  [0, 0, 0, 0, 1, 0, 0, 0, 0, 0, 0, 1, 0, 0, 0, ...              1   \n3  [1, 0, 0, 0, 0, 0, 0, 0, 0, 0, 0, 0, 0, 0, 0, ...              0   \n4  [0, 0, 0, 0, 0, 0, 0, 0, 0, 1, 0, 0, 0, 0, 0, ...              0   \n\n                                      ingredient_ids  \n0                      [389, 7655, 6270, 1527, 3406]  \n1  [2683, 4969, 800, 5298, 840, 2499, 6632, 7022,...  \n2  [1257, 7655, 6270, 590, 5024, 1119, 4883, 6696...  \n3   [7940, 3609, 7060, 6265, 1170, 6654, 5003, 3561]  \n4                            [3484, 6324, 7594, 243]  ",
      "text/html": "<div>\n<style scoped>\n    .dataframe tbody tr th:only-of-type {\n        vertical-align: middle;\n    }\n\n    .dataframe tbody tr th {\n        vertical-align: top;\n    }\n\n    .dataframe thead th {\n        text-align: right;\n    }\n</style>\n<table border=\"1\" class=\"dataframe\">\n  <thead>\n    <tr style=\"text-align: right;\">\n      <th></th>\n      <th>id</th>\n      <th>i</th>\n      <th>name_tokens</th>\n      <th>ingredient_tokens</th>\n      <th>steps_tokens</th>\n      <th>techniques</th>\n      <th>calorie_level</th>\n      <th>ingredient_ids</th>\n    </tr>\n  </thead>\n  <tbody>\n    <tr>\n      <th>0</th>\n      <td>424415</td>\n      <td>23</td>\n      <td>[40480, 37229, 2911, 1019, 249, 6878, 6878, 28...</td>\n      <td>[[2911, 1019, 249, 6878], [1353], [6953], [153...</td>\n      <td>[40480, 40482, 21662, 481, 6878, 500, 246, 161...</td>\n      <td>[0, 0, 0, 0, 0, 0, 0, 0, 0, 1, 0, 0, 0, 0, 0, ...</td>\n      <td>0</td>\n      <td>[389, 7655, 6270, 1527, 3406]</td>\n    </tr>\n    <tr>\n      <th>1</th>\n      <td>146223</td>\n      <td>96900</td>\n      <td>[40480, 18376, 7056, 246, 1531, 2032, 40481]</td>\n      <td>[[17918], [25916], [2507, 6444], [8467, 1179],...</td>\n      <td>[40480, 40482, 729, 2525, 10906, 485, 43, 8393...</td>\n      <td>[1, 0, 0, 0, 0, 0, 0, 0, 0, 1, 0, 0, 0, 0, 0, ...</td>\n      <td>0</td>\n      <td>[2683, 4969, 800, 5298, 840, 2499, 6632, 7022,...</td>\n    </tr>\n    <tr>\n      <th>2</th>\n      <td>312329</td>\n      <td>120056</td>\n      <td>[40480, 21044, 16954, 8294, 556, 10837, 40481]</td>\n      <td>[[5867, 24176], [1353], [6953], [1301, 11332],...</td>\n      <td>[40480, 40482, 8240, 481, 24176, 296, 1353, 66...</td>\n      <td>[0, 0, 0, 0, 1, 0, 0, 0, 0, 0, 0, 1, 0, 0, 0, ...</td>\n      <td>1</td>\n      <td>[1257, 7655, 6270, 590, 5024, 1119, 4883, 6696...</td>\n    </tr>\n    <tr>\n      <th>3</th>\n      <td>74301</td>\n      <td>168258</td>\n      <td>[40480, 10025, 31156, 40481]</td>\n      <td>[[1270, 1645, 28447], [21601], [27952, 29471, ...</td>\n      <td>[40480, 40482, 5539, 21601, 1073, 903, 2324, 4...</td>\n      <td>[1, 0, 0, 0, 0, 0, 0, 0, 0, 0, 0, 0, 0, 0, 0, ...</td>\n      <td>0</td>\n      <td>[7940, 3609, 7060, 6265, 1170, 6654, 5003, 3561]</td>\n    </tr>\n    <tr>\n      <th>4</th>\n      <td>76272</td>\n      <td>109030</td>\n      <td>[40480, 17841, 252, 782, 2373, 1641, 2373, 252...</td>\n      <td>[[1430, 11434], [1430, 17027], [1615, 23, 695,...</td>\n      <td>[40480, 40482, 14046, 1430, 11434, 488, 17027,...</td>\n      <td>[0, 0, 0, 0, 0, 0, 0, 0, 0, 1, 0, 0, 0, 0, 0, ...</td>\n      <td>0</td>\n      <td>[3484, 6324, 7594, 243]</td>\n    </tr>\n  </tbody>\n</table>\n</div>"
     },
     "execution_count": 4,
     "metadata": {},
     "output_type": "execute_result"
    }
   ],
   "source": [
    "recipes_pp = pd.read_csv('archive/PP_recipes.csv')\n",
    "recipes_pp.info()\n",
    "recipes_pp.head()"
   ],
   "metadata": {
    "collapsed": false
   }
  },
  {
   "cell_type": "markdown",
   "source": [
    "### Recipes - raw data\n",
    "name - Recipe name\n",
    "id - Recipe ID\n",
    "minutes - Minutes to prepare recipe\n",
    "contributor_id - User ID who submitted this recipe\n",
    "submitted - Date recipe was submitted\n",
    "tags - Food.com tags for recipe\n",
    "nutrition - Nutrition information (calories (#), total fat (PDV), sugar (PDV) , sodium (PDV) , protein (PDV) , saturated fat\n",
    "steps - Text for recipe steps, in order\n",
    "description - User-provided description"
   ],
   "metadata": {
    "collapsed": false
   }
  },
  {
   "cell_type": "code",
   "execution_count": 5,
   "outputs": [
    {
     "name": "stdout",
     "output_type": "stream",
     "text": [
      "<class 'pandas.core.frame.DataFrame'>\n",
      "RangeIndex: 231637 entries, 0 to 231636\n",
      "Data columns (total 12 columns):\n",
      " #   Column          Non-Null Count   Dtype \n",
      "---  ------          --------------   ----- \n",
      " 0   name            231636 non-null  object\n",
      " 1   id              231637 non-null  int64 \n",
      " 2   minutes         231637 non-null  int64 \n",
      " 3   contributor_id  231637 non-null  int64 \n",
      " 4   submitted       231637 non-null  object\n",
      " 5   tags            231637 non-null  object\n",
      " 6   nutrition       231637 non-null  object\n",
      " 7   n_steps         231637 non-null  int64 \n",
      " 8   steps           231637 non-null  object\n",
      " 9   description     226658 non-null  object\n",
      " 10  ingredients     231637 non-null  object\n",
      " 11  n_ingredients   231637 non-null  int64 \n",
      "dtypes: int64(5), object(7)\n",
      "memory usage: 21.2+ MB\n"
     ]
    },
    {
     "data": {
      "text/plain": "                                         name      id  minutes  \\\n0  arriba   baked winter squash mexican style  137739       55   \n1            a bit different  breakfast pizza   31490       30   \n2                   all in the kitchen  chili  112140      130   \n3                          alouette  potatoes   59389       45   \n4          amish  tomato ketchup  for canning   44061      190   \n\n   contributor_id   submitted  \\\n0           47892  2005-09-16   \n1           26278  2002-06-17   \n2          196586  2005-02-25   \n3           68585  2003-04-14   \n4           41706  2002-10-25   \n\n                                                tags  \\\n0  ['60-minutes-or-less', 'time-to-make', 'course...   \n1  ['30-minutes-or-less', 'time-to-make', 'course...   \n2  ['time-to-make', 'course', 'preparation', 'mai...   \n3  ['60-minutes-or-less', 'time-to-make', 'course...   \n4  ['weeknight', 'time-to-make', 'course', 'main-...   \n\n                                    nutrition  n_steps  \\\n0       [51.5, 0.0, 13.0, 0.0, 2.0, 0.0, 4.0]       11   \n1   [173.4, 18.0, 0.0, 17.0, 22.0, 35.0, 1.0]        9   \n2  [269.8, 22.0, 32.0, 48.0, 39.0, 27.0, 5.0]        6   \n3   [368.1, 17.0, 10.0, 2.0, 14.0, 8.0, 20.0]       11   \n4   [352.9, 1.0, 337.0, 23.0, 3.0, 0.0, 28.0]        5   \n\n                                               steps  \\\n0  ['make a choice and proceed with recipe', 'dep...   \n1  ['preheat oven to 425 degrees f', 'press dough...   \n2  ['brown ground beef in large pot', 'add choppe...   \n3  ['place potatoes in a large pot of lightly sal...   \n4  ['mix all ingredients& boil for 2 1 / 2 hours ...   \n\n                                         description  \\\n0  autumn is my favorite time of year to cook! th...   \n1  this recipe calls for the crust to be prebaked...   \n2  this modified version of 'mom's' chili was a h...   \n3  this is a super easy, great tasting, make ahea...   \n4  my dh's amish mother raised him on this recipe...   \n\n                                         ingredients  n_ingredients  \n0  ['winter squash', 'mexican seasoning', 'mixed ...              7  \n1  ['prepared pizza crust', 'sausage patty', 'egg...              6  \n2  ['ground beef', 'yellow onions', 'diced tomato...             13  \n3  ['spreadable cheese with garlic and herbs', 'n...             11  \n4  ['tomato juice', 'apple cider vinegar', 'sugar...              8  ",
      "text/html": "<div>\n<style scoped>\n    .dataframe tbody tr th:only-of-type {\n        vertical-align: middle;\n    }\n\n    .dataframe tbody tr th {\n        vertical-align: top;\n    }\n\n    .dataframe thead th {\n        text-align: right;\n    }\n</style>\n<table border=\"1\" class=\"dataframe\">\n  <thead>\n    <tr style=\"text-align: right;\">\n      <th></th>\n      <th>name</th>\n      <th>id</th>\n      <th>minutes</th>\n      <th>contributor_id</th>\n      <th>submitted</th>\n      <th>tags</th>\n      <th>nutrition</th>\n      <th>n_steps</th>\n      <th>steps</th>\n      <th>description</th>\n      <th>ingredients</th>\n      <th>n_ingredients</th>\n    </tr>\n  </thead>\n  <tbody>\n    <tr>\n      <th>0</th>\n      <td>arriba   baked winter squash mexican style</td>\n      <td>137739</td>\n      <td>55</td>\n      <td>47892</td>\n      <td>2005-09-16</td>\n      <td>['60-minutes-or-less', 'time-to-make', 'course...</td>\n      <td>[51.5, 0.0, 13.0, 0.0, 2.0, 0.0, 4.0]</td>\n      <td>11</td>\n      <td>['make a choice and proceed with recipe', 'dep...</td>\n      <td>autumn is my favorite time of year to cook! th...</td>\n      <td>['winter squash', 'mexican seasoning', 'mixed ...</td>\n      <td>7</td>\n    </tr>\n    <tr>\n      <th>1</th>\n      <td>a bit different  breakfast pizza</td>\n      <td>31490</td>\n      <td>30</td>\n      <td>26278</td>\n      <td>2002-06-17</td>\n      <td>['30-minutes-or-less', 'time-to-make', 'course...</td>\n      <td>[173.4, 18.0, 0.0, 17.0, 22.0, 35.0, 1.0]</td>\n      <td>9</td>\n      <td>['preheat oven to 425 degrees f', 'press dough...</td>\n      <td>this recipe calls for the crust to be prebaked...</td>\n      <td>['prepared pizza crust', 'sausage patty', 'egg...</td>\n      <td>6</td>\n    </tr>\n    <tr>\n      <th>2</th>\n      <td>all in the kitchen  chili</td>\n      <td>112140</td>\n      <td>130</td>\n      <td>196586</td>\n      <td>2005-02-25</td>\n      <td>['time-to-make', 'course', 'preparation', 'mai...</td>\n      <td>[269.8, 22.0, 32.0, 48.0, 39.0, 27.0, 5.0]</td>\n      <td>6</td>\n      <td>['brown ground beef in large pot', 'add choppe...</td>\n      <td>this modified version of 'mom's' chili was a h...</td>\n      <td>['ground beef', 'yellow onions', 'diced tomato...</td>\n      <td>13</td>\n    </tr>\n    <tr>\n      <th>3</th>\n      <td>alouette  potatoes</td>\n      <td>59389</td>\n      <td>45</td>\n      <td>68585</td>\n      <td>2003-04-14</td>\n      <td>['60-minutes-or-less', 'time-to-make', 'course...</td>\n      <td>[368.1, 17.0, 10.0, 2.0, 14.0, 8.0, 20.0]</td>\n      <td>11</td>\n      <td>['place potatoes in a large pot of lightly sal...</td>\n      <td>this is a super easy, great tasting, make ahea...</td>\n      <td>['spreadable cheese with garlic and herbs', 'n...</td>\n      <td>11</td>\n    </tr>\n    <tr>\n      <th>4</th>\n      <td>amish  tomato ketchup  for canning</td>\n      <td>44061</td>\n      <td>190</td>\n      <td>41706</td>\n      <td>2002-10-25</td>\n      <td>['weeknight', 'time-to-make', 'course', 'main-...</td>\n      <td>[352.9, 1.0, 337.0, 23.0, 3.0, 0.0, 28.0]</td>\n      <td>5</td>\n      <td>['mix all ingredients&amp; boil for 2 1 / 2 hours ...</td>\n      <td>my dh's amish mother raised him on this recipe...</td>\n      <td>['tomato juice', 'apple cider vinegar', 'sugar...</td>\n      <td>8</td>\n    </tr>\n  </tbody>\n</table>\n</div>"
     },
     "execution_count": 5,
     "metadata": {},
     "output_type": "execute_result"
    }
   ],
   "source": [
    "recipes_raw = pd.read_csv('archive/RAW_recipes.csv')\n",
    "recipes_raw.info()\n",
    "recipes_raw.head()"
   ],
   "metadata": {
    "collapsed": false
   }
  },
  {
   "cell_type": "markdown",
   "source": [
    "### Interactions\n",
    "user_id - User ID\n",
    "recipe_id - Recipe ID\n",
    "date - Date of interaction\n",
    "rating - Rating given\n",
    "review - Review text"
   ],
   "metadata": {
    "collapsed": false
   }
  },
  {
   "cell_type": "code",
   "execution_count": 6,
   "outputs": [
    {
     "name": "stdout",
     "output_type": "stream",
     "text": [
      "<class 'pandas.core.frame.DataFrame'>\n",
      "RangeIndex: 1132367 entries, 0 to 1132366\n",
      "Data columns (total 5 columns):\n",
      " #   Column     Non-Null Count    Dtype \n",
      "---  ------     --------------    ----- \n",
      " 0   user_id    1132367 non-null  int64 \n",
      " 1   recipe_id  1132367 non-null  int64 \n",
      " 2   date       1132367 non-null  object\n",
      " 3   rating     1132367 non-null  int64 \n",
      " 4   review     1132198 non-null  object\n",
      "dtypes: int64(3), object(2)\n",
      "memory usage: 43.2+ MB\n"
     ]
    },
    {
     "data": {
      "text/plain": "   user_id  recipe_id        date  rating  \\\n0    38094      40893  2003-02-17       4   \n1  1293707      40893  2011-12-21       5   \n2     8937      44394  2002-12-01       4   \n3   126440      85009  2010-02-27       5   \n4    57222      85009  2011-10-01       5   \n\n                                              review  \n0  Great with a salad. Cooked on top of stove for...  \n1  So simple, so delicious! Great for chilly fall...  \n2  This worked very well and is EASY.  I used not...  \n3  I made the Mexican topping and took it to bunk...  \n4  Made the cheddar bacon topping, adding a sprin...  ",
      "text/html": "<div>\n<style scoped>\n    .dataframe tbody tr th:only-of-type {\n        vertical-align: middle;\n    }\n\n    .dataframe tbody tr th {\n        vertical-align: top;\n    }\n\n    .dataframe thead th {\n        text-align: right;\n    }\n</style>\n<table border=\"1\" class=\"dataframe\">\n  <thead>\n    <tr style=\"text-align: right;\">\n      <th></th>\n      <th>user_id</th>\n      <th>recipe_id</th>\n      <th>date</th>\n      <th>rating</th>\n      <th>review</th>\n    </tr>\n  </thead>\n  <tbody>\n    <tr>\n      <th>0</th>\n      <td>38094</td>\n      <td>40893</td>\n      <td>2003-02-17</td>\n      <td>4</td>\n      <td>Great with a salad. Cooked on top of stove for...</td>\n    </tr>\n    <tr>\n      <th>1</th>\n      <td>1293707</td>\n      <td>40893</td>\n      <td>2011-12-21</td>\n      <td>5</td>\n      <td>So simple, so delicious! Great for chilly fall...</td>\n    </tr>\n    <tr>\n      <th>2</th>\n      <td>8937</td>\n      <td>44394</td>\n      <td>2002-12-01</td>\n      <td>4</td>\n      <td>This worked very well and is EASY.  I used not...</td>\n    </tr>\n    <tr>\n      <th>3</th>\n      <td>126440</td>\n      <td>85009</td>\n      <td>2010-02-27</td>\n      <td>5</td>\n      <td>I made the Mexican topping and took it to bunk...</td>\n    </tr>\n    <tr>\n      <th>4</th>\n      <td>57222</td>\n      <td>85009</td>\n      <td>2011-10-01</td>\n      <td>5</td>\n      <td>Made the cheddar bacon topping, adding a sprin...</td>\n    </tr>\n  </tbody>\n</table>\n</div>"
     },
     "execution_count": 6,
     "metadata": {},
     "output_type": "execute_result"
    }
   ],
   "source": [
    "interactions_raw = pd.read_csv('archive/RAW_interactions.csv')\n",
    "interactions_raw.info()\n",
    "interactions_raw.head()"
   ],
   "metadata": {
    "collapsed": false
   }
  },
  {
   "cell_type": "markdown",
   "source": [
    "## Data analysis"
   ],
   "metadata": {
    "collapsed": false
   }
  },
  {
   "cell_type": "markdown",
   "source": [
    "### Most often rated recipes\n",
    "\n",
    "I am gonna do it using lists, where list indexes will be recipe ids. This requires creating lists longer by one than maximum recipe_id, so that recipe_id can directly match list index.\n",
    "Having it done I will create a structured array as in formula:\n",
    "[(recipe_id, interactions_count, average_rating), ...]"
   ],
   "metadata": {
    "collapsed": false
   }
  },
  {
   "cell_type": "code",
   "execution_count": 7,
   "outputs": [],
   "source": [
    "# Create lists for interactions count and sum of rates\n",
    "interactions_count = [0] * (max(recipes_raw['id'].values) + 1)\n",
    "ratings_sum = [0] * (max(recipes_raw['id'].values) + 1)\n",
    "\n",
    "# Fill the lists\n",
    "for row_index, row in interactions_raw.iterrows():\n",
    "    recipe_id = interactions_raw.loc[row_index]['recipe_id']\n",
    "    rating = interactions_raw.loc[row_index]['rating']\n",
    "    interactions_count[recipe_id] += 1\n",
    "    ratings_sum[recipe_id] += rating"
   ],
   "metadata": {
    "collapsed": false
   }
  },
  {
   "cell_type": "code",
   "execution_count": 8,
   "outputs": [],
   "source": [
    "# Create a structured array to store the recipes stats\n",
    "array_structure = [('recipe_id', int), ('interactions_count', int), ('avg_rating', float)]\n",
    "array_values = []\n",
    "\n",
    "for recipe_id in recipes_raw['id'].values:\n",
    "    interactions_number = interactions_count[recipe_id]\n",
    "    avg_rating = ratings_sum[recipe_id] / interactions_count[recipe_id]\n",
    "    array_values.append((recipe_id, interactions_number, avg_rating))\n",
    "recipe_stats = np.array(array_values, dtype = array_structure)"
   ],
   "metadata": {
    "collapsed": false
   }
  },
  {
   "cell_type": "code",
   "execution_count": 15,
   "outputs": [
    {
     "name": "stdout",
     "output_type": "stream",
     "text": [
      "Position 10:\n",
      "JAPANESE MUM S CHICKEN\n",
      "Interactions:   904\n",
      "Average rating: 4.40 / 5\n",
      "\n",
      "Position 9:\n",
      "KITTENCAL S ITALIAN MELT IN YOUR MOUTH MEATBALLS\n",
      "Interactions:   997\n",
      "Average rating: 4.71 / 5\n",
      "\n",
      "Position 8:\n",
      "WHATEVER FLOATS YOUR BOAT  BROWNIES\n",
      "Interactions:   1220\n",
      "Average rating: 4.53 / 5\n",
      "\n",
      "Position 7:\n",
      "JO MAMA S WORLD FAMOUS SPAGHETTI\n",
      "Interactions:   1234\n",
      "Average rating: 4.42 / 5\n",
      "\n",
      "Position 6:\n",
      "YES  VIRGINIA THERE IS A GREAT MEATLOAF\n",
      "Interactions:   1305\n",
      "Average rating: 4.21 / 5\n",
      "\n",
      "Position 5:\n",
      "BEST EVER BANANA CAKE WITH CREAM CHEESE FROSTING\n",
      "Interactions:   1322\n",
      "Average rating: 4.33 / 5\n",
      "\n",
      "Position 4:\n",
      "CREAMY CAJUN CHICKEN PASTA\n",
      "Interactions:   1448\n",
      "Average rating: 4.54 / 5\n",
      "\n",
      "Position 3:\n",
      "CROCK POT CHICKEN WITH BLACK BEANS   CREAM CHEESE\n",
      "Interactions:   1579\n",
      "Average rating: 4.22 / 5\n",
      "\n",
      "Position 2:\n",
      "TO DIE FOR CROCK POT ROAST\n",
      "Interactions:   1601\n",
      "Average rating: 4.29 / 5\n",
      "\n",
      "Position 1:\n",
      "BEST BANANA BREAD\n",
      "Interactions:   1613\n",
      "Average rating: 4.19 / 5\n",
      "\n"
     ]
    }
   ],
   "source": [
    "# Find 10 most often rated recipes\n",
    "most_often_recipes = recipe_stats.copy()\n",
    "most_often_recipes.sort(order = 'interactions_count')\n",
    "most_often_recipes = most_often_recipes[::-1]\n",
    "\n",
    "for i in range(10, 0, -1):\n",
    "    print('Position ', i, ':', sep = '')\n",
    "    recipe_id = most_often_recipes[i - 1]['recipe_id']\n",
    "    name = recipes_raw.loc[recipes_raw['id'] == recipe_id]['name'].to_string(index= False)\n",
    "    print(name.upper())\n",
    "    print('Interactions:  ', most_often_recipes[i - 1]['interactions_count'])\n",
    "    avg_rating = most_often_recipes[i - 1]['avg_rating']\n",
    "    print(f'Average rating: {avg_rating:1.2f} / 5\\n')"
   ],
   "metadata": {
    "collapsed": false
   }
  },
  {
   "cell_type": "markdown",
   "source": [
    "### Highest rated recipes\n",
    "At this point I would like to find recipes with highest average rating, but this would probably return a lot of recipes with just one, 5-stars mark."
   ],
   "metadata": {
    "collapsed": false
   }
  },
  {
   "cell_type": "code",
   "execution_count": 64,
   "outputs": [
    {
     "name": "stdout",
     "output_type": "stream",
     "text": [
      "Position 10:\n",
      "SLOW COOKER SOY BRAISED CHICKEN\n",
      "Interactions:   1\n",
      "Average rating: 5.00 / 5\n",
      "\n",
      "Position 9:\n",
      "INSTANT POT TURKEY CHILI\n",
      "Interactions:   1\n",
      "Average rating: 5.00 / 5\n",
      "\n",
      "Position 8:\n",
      "VAMPIRE S KISS CAKE\n",
      "Interactions:   1\n",
      "Average rating: 5.00 / 5\n",
      "\n",
      "Position 7:\n",
      "RAPID RISE SKILLET YEAST ROLLS\n",
      "Interactions:   1\n",
      "Average rating: 5.00 / 5\n",
      "\n",
      "Position 6:\n",
      "CARROT APPLE ZUCCHINI BREAD\n",
      "Interactions:   1\n",
      "Average rating: 5.00 / 5\n",
      "\n",
      "Position 5:\n",
      "POINSETTIA PULL APART COOKIES\n",
      "Interactions:   1\n",
      "Average rating: 5.00 / 5\n",
      "\n",
      "Position 4:\n",
      "GARLIC AND HERB MASHED POTATOES\n",
      "Interactions:   1\n",
      "Average rating: 5.00 / 5\n",
      "\n",
      "Position 3:\n",
      "BAILEY S CHOCOTINI\n",
      "Interactions:   1\n",
      "Average rating: 5.00 / 5\n",
      "\n",
      "Position 2:\n",
      "5 INGREDIENT SALTED CARAMEL CRUMBLE BARS\n",
      "Interactions:   1\n",
      "Average rating: 5.00 / 5\n",
      "\n",
      "Position 1:\n",
      "MINI BUFFALO CHICKEN CHEESESTEAKS\n",
      "Interactions:   1\n",
      "Average rating: 5.00 / 5\n",
      "\n"
     ]
    }
   ],
   "source": [
    "# Find 10 top rated recipes\n",
    "\n",
    "top_rated_recipes = recipe_stats.copy()\n",
    "top_rated_recipes.sort(order = 'avg_rating')\n",
    "top_rated_recipes = top_rated_recipes[::-1]\n",
    "\n",
    "for i in range(10, 0, -1):\n",
    "    print('Position ', i, ':', sep = '')\n",
    "    recipe_id = top_rated_recipes[i - 1]['recipe_id']\n",
    "    name = recipes_raw.loc[recipes_raw['id'] == recipe_id]['name'].to_string(index= False)\n",
    "    print(name.upper())\n",
    "    print('Interactions:  ', top_rated_recipes[i - 1]['interactions_count'])\n",
    "    avg_rating = top_rated_recipes[i - 1]['avg_rating']\n",
    "    print(f'Average rating: {avg_rating:1.2f} / 5\\n')"
   ],
   "metadata": {
    "collapsed": false
   }
  },
  {
   "cell_type": "markdown",
   "source": [
    "We got exactly the expected result. So let's make the results more objective and let's set a threshold below which we will not consider results as valid. This could be some constant value (e.g. 20 or 50 ratings), but we want it to be prone to overall ratings number distribution. So let's check what does this distribution look like."
   ],
   "metadata": {
    "collapsed": false
   }
  },
  {
   "cell_type": "code",
   "execution_count": 62,
   "outputs": [
    {
     "data": {
      "text/plain": "Text(0.5, 0, 'Number of interactions (logarithmic scale)')"
     },
     "execution_count": 62,
     "metadata": {},
     "output_type": "execute_result"
    },
    {
     "data": {
      "text/plain": "<Figure size 640x480 with 1 Axes>",
      "image/png": "[encoded data removed]"
     },
     "metadata": {},
     "output_type": "display_data"
    }
   ],
   "source": [
    "# Create distribution plot\n",
    "\n",
    "sns.kdeplot(data = recipe_stats['interactions_count'], log_scale = True, fill = True, cbar = True)\n",
    "plt.title('Interactions number distribution')\n",
    "plt.xlabel('Number of interactions (logarithmic scale)')"
   ],
   "metadata": {
    "collapsed": false
   }
  },
  {
   "cell_type": "code",
   "execution_count": 67,
   "outputs": [
    {
     "name": "stdout",
     "output_type": "stream",
     "text": [
      "Number of recipes: 231637\n",
      "Median:     2\n",
      "Quantiles:  [1.0, 1.0, 1.0, 2.0, 2.0, 3.0, 3.0, 5.0, 9.0]\n",
      "Mean value: 4\n"
     ]
    }
   ],
   "source": [
    "# Print some statistical values\n",
    "\n",
    "data = recipe_stats['interactions_count']\n",
    "print('Number of recipes:', len(data))\n",
    "print('Median:    ', st.median(data))\n",
    "print('Quantiles: ', st.quantiles(data, n = 10))\n",
    "print('Mean value:', st.mean(data))"
   ],
   "metadata": {
    "collapsed": false
   }
  },
  {
   "cell_type": "markdown",
   "source": [
    "After having a look at the chart above and statistical data I decided to set the first threshold as >= 10 interactions, which will cut off majority of lowest popular recipes."
   ],
   "metadata": {
    "collapsed": false
   }
  },
  {
   "cell_type": "code",
   "execution_count": 95,
   "outputs": [
    {
     "name": "stdout",
     "output_type": "stream",
     "text": [
      "Number of recipes included: 231637\n",
      "5 first elements, second column is number of interactions:\n",
      "[(537716, 1, 5.) (537485, 1, 5.) (537459, 1, 5.) (537458, 1, 5.)\n",
      " (537242, 1, 5.)]\n",
      "\n",
      " ************************************************** \n",
      "\n",
      "Number of recipes included: 21399\n",
      "5 first elements, second column is number of interactions:\n",
      "[(524984, 12, 5.) (524960, 11, 5.) (524958, 13, 5.) (518202, 14, 5.)\n",
      " (518143, 13, 5.)]\n"
     ]
    }
   ],
   "source": [
    "# Cut off recipes with less than 10 interactions and check how it worked\n",
    "\n",
    "top_rated_recipes = recipe_stats.copy()\n",
    "top_rated_recipes.sort(order = 'avg_rating')\n",
    "top_rated_recipes = top_rated_recipes[::-1]\n",
    "\n",
    "print('Number of recipes included:', len(top_rated_recipes))\n",
    "print('5 first elements, second column is number of interactions:')\n",
    "print(top_rated_recipes[0:5])\n",
    "\n",
    "print('\\n', '*'*50, '\\n')\n",
    "\n",
    "filter_array = []\n",
    "for element in top_rated_recipes:\n",
    "    if element['interactions_count'] >= 10:\n",
    "        filter_array.append(True)\n",
    "    else:\n",
    "        filter_array.append(False)\n",
    "top_rated_recipes = top_rated_recipes[filter_array]\n",
    "print('Number of recipes included:', len(top_rated_recipes))\n",
    "print('5 first elements, second column is number of interactions:')\n",
    "print(top_rated_recipes[0:5])"
   ],
   "metadata": {
    "collapsed": false
   }
  },
  {
   "cell_type": "markdown",
   "source": [
    "As we can see, setting minimum interactions count to just 10 interactions let us filter 90% of recipes. Let's check the distribution and statistical data now:"
   ],
   "metadata": {
    "collapsed": false
   }
  },
  {
   "cell_type": "code",
   "execution_count": 92,
   "outputs": [
    {
     "data": {
      "text/plain": "Text(0.5, 0, 'Number of interactions (logarithmic scale)')"
     },
     "execution_count": 92,
     "metadata": {},
     "output_type": "execute_result"
    },
    {
     "data": {
      "text/plain": "<Figure size 640x480 with 1 Axes>",
      "image/png": "[encoded data removed]"
     },
     "metadata": {},
     "output_type": "display_data"
    }
   ],
   "source": [
    "# Create - again - distribution plot\n",
    "\n",
    "sns.kdeplot(data = top_rated_recipes['interactions_count'], log_scale = True, fill = True, cbar = True)\n",
    "plt.title('Interactions number distribution')\n",
    "plt.xlabel('Number of interactions (logarithmic scale)')"
   ],
   "metadata": {
    "collapsed": false
   }
  },
  {
   "cell_type": "code",
   "execution_count": 93,
   "outputs": [
    {
     "name": "stdout",
     "output_type": "stream",
     "text": [
      "Number of recipes: 21399\n",
      "Median:     16\n",
      "Quantiles:  [10.0, 11.0, 12.0, 14.0, 16.0, 19.0, 23.0, 31.0, 50.0]\n",
      "Mean value: 28\n"
     ]
    }
   ],
   "source": [
    "# Print - again - some statistical values\n",
    "\n",
    "data = top_rated_recipes['interactions_count']\n",
    "print('Number of recipes:', len(data))\n",
    "print('Median:    ', st.median(data))\n",
    "print('Quantiles: ', st.quantiles(data, n=10))\n",
    "print('Mean value:', st.mean(data))"
   ],
   "metadata": {
    "collapsed": false
   }
  },
  {
   "cell_type": "markdown",
   "source": [
    "For now we can consider it as a decent outcome. Let's get our desired top recipe list!"
   ],
   "metadata": {
    "collapsed": false
   }
  },
  {
   "cell_type": "code",
   "execution_count": 94,
   "outputs": [
    {
     "name": "stdout",
     "output_type": "stream",
     "text": [
      "Position 10:\n",
      "SRIRACHA HONEY ROASTED BROCCOLI\n",
      "Interactions:   10\n",
      "Average rating: 5.00 / 5\n",
      "\n",
      "Position 9:\n",
      "CHINESE TAKE OUT  EGG DROP SOUP\n",
      "Interactions:   10\n",
      "Average rating: 5.00 / 5\n",
      "\n",
      "Position 8:\n",
      "RECIPE  HOMEMADE BUTTERMILK PANCAKES\n",
      "Interactions:   13\n",
      "Average rating: 5.00 / 5\n",
      "\n",
      "Position 7:\n",
      "TURKEY AND VEGETABLE RAGOUT WITH WARM POLENTA R...\n",
      "Interactions:   10\n",
      "Average rating: 5.00 / 5\n",
      "\n",
      "Position 6:\n",
      "A 1  CHERRY COBBLER TART   A1\n",
      "Interactions:   20\n",
      "Average rating: 5.00 / 5\n",
      "\n",
      "Position 5:\n",
      "A1 COWBOY UP TART  A1\n",
      "Interactions:   13\n",
      "Average rating: 5.00 / 5\n",
      "\n",
      "Position 4:\n",
      "OPEN FACE BACON JAM AND EGG SANDWICH  A1\n",
      "Interactions:   14\n",
      "Average rating: 5.00 / 5\n",
      "\n",
      "Position 3:\n",
      "POLENTA CRUSTED BACON GOAT CHEESE ARROTONDARES ...\n",
      "Interactions:   13\n",
      "Average rating: 5.00 / 5\n",
      "\n",
      "Position 2:\n",
      "EASY CHEESY FONDUE  RAGU\n",
      "Interactions:   11\n",
      "Average rating: 5.00 / 5\n",
      "\n",
      "Position 1:\n",
      "SUNDAY  ANY DAY SPAGHETTI  RAGU\n",
      "Interactions:   12\n",
      "Average rating: 5.00 / 5\n",
      "\n"
     ]
    }
   ],
   "source": [
    "# Print top rated recipes\n",
    "\n",
    "for i in range(10, 0, -1):\n",
    "    print('Position ', i, ':', sep = '')\n",
    "    recipe_id = top_rated_recipes[i - 1]['recipe_id']\n",
    "    name = recipes_raw.loc[recipes_raw['id'] == recipe_id]['name'].to_string(index= False)\n",
    "    print(name.upper())\n",
    "    print('Interactions:  ', top_rated_recipes[i - 1]['interactions_count'])\n",
    "    avg_rating = top_rated_recipes[i - 1]['avg_rating']\n",
    "    print(f'Average rating: {avg_rating:1.2f} / 5\\n')"
   ],
   "metadata": {
    "collapsed": false
   }
  },
  {
   "cell_type": "markdown",
   "source": [
    "Ok, sorry for that - that's again a list of only-5-stars recipes. So let's filter it once again and check how it looks for at least 100 interactions:"
   ],
   "metadata": {
    "collapsed": false
   }
  },
  {
   "cell_type": "markdown",
   "source": [
    "<again?_again_meme>"
   ],
   "metadata": {
    "collapsed": false
   }
  },
  {
   "cell_type": "code",
   "execution_count": 96,
   "outputs": [
    {
     "name": "stdout",
     "output_type": "stream",
     "text": [
      "Number of recipes included: 21399\n",
      "5 first elements, second column is number of interactions:\n",
      "[(524984, 12, 5.) (524960, 11, 5.) (524958, 13, 5.) (518202, 14, 5.)\n",
      " (518143, 13, 5.)]\n",
      "\n",
      " ************************************************** \n",
      "\n",
      "Number of recipes included: 787\n",
      "5 first elements, second column is number of interactions:\n",
      "[(486261, 217, 4.99078341) ( 42976, 118, 4.91525424)\n",
      " ( 92072, 134, 4.86567164) (100526, 139, 4.84892086)\n",
      " (216350, 131, 4.84732824)]\n"
     ]
    }
   ],
   "source": [
    "# Cut off recipes with less than 100 interactions and check how it worked\n",
    "\n",
    "print('Number of recipes included:', len(top_rated_recipes))\n",
    "print('5 first elements, second column is number of interactions:')\n",
    "print(top_rated_recipes[0:5])\n",
    "\n",
    "print('\\n', '*'*50, '\\n')\n",
    "\n",
    "filter_array = []\n",
    "for element in top_rated_recipes:\n",
    "    if element['interactions_count'] >= 100:\n",
    "        filter_array.append(True)\n",
    "    else:\n",
    "        filter_array.append(False)\n",
    "top_rated_recipes = top_rated_recipes[filter_array]\n",
    "print('Number of recipes included:', len(top_rated_recipes))\n",
    "print('5 first elements, second column is number of interactions:')\n",
    "print(top_rated_recipes[0:5])"
   ],
   "metadata": {
    "collapsed": false
   }
  },
  {
   "cell_type": "code",
   "execution_count": 97,
   "outputs": [
    {
     "data": {
      "text/plain": "Text(0.5, 0, 'Number of interactions (logarithmic scale)')"
     },
     "execution_count": 97,
     "metadata": {},
     "output_type": "execute_result"
    },
    {
     "data": {
      "text/plain": "<Figure size 640x480 with 1 Axes>",
      "image/png": "[encoded data removed]"
     },
     "metadata": {},
     "output_type": "display_data"
    }
   ],
   "source": [
    "# Create - yes, again - distribution plot\n",
    "\n",
    "sns.kdeplot(data = top_rated_recipes['interactions_count'], log_scale = True, fill = True, cbar = True)\n",
    "plt.title('Interactions number distribution')\n",
    "plt.xlabel('Number of interactions (logarithmic scale)')"
   ],
   "metadata": {
    "collapsed": false
   }
  },
  {
   "cell_type": "code",
   "execution_count": 98,
   "outputs": [
    {
     "name": "stdout",
     "output_type": "stream",
     "text": [
      "Number of recipes: 787\n",
      "Median:     149\n",
      "Quantiles:  [106.0, 115.0, 124.0, 136.0, 149.0, 168.0, 198.0, 246.4, 354.6]\n",
      "Mean value: 209\n"
     ]
    }
   ],
   "source": [
    "# Print - yes, again - some statistical values\n",
    "\n",
    "data = top_rated_recipes['interactions_count']\n",
    "print('Number of recipes:', len(data))\n",
    "print('Median:    ', st.median(data))\n",
    "print('Quantiles: ', st.quantiles(data, n=10))\n",
    "print('Mean value:', st.mean(data))"
   ],
   "metadata": {
    "collapsed": false
   }
  },
  {
   "cell_type": "code",
   "execution_count": 99,
   "outputs": [
    {
     "name": "stdout",
     "output_type": "stream",
     "text": [
      "Position 10:\n",
      "POTATO SALAD WITH CHIPOTLE PEPPERS A MAN S SALAD\n",
      "Interactions:   100\n",
      "Average rating: 4.82 / 5\n",
      "\n",
      "Position 9:\n",
      "EASY  FESTIVE CHOCOLATE HOLIDAY PRETZELS\n",
      "Interactions:   122\n",
      "Average rating: 4.84 / 5\n",
      "\n",
      "Position 8:\n",
      "CROUTONS\n",
      "Interactions:   100\n",
      "Average rating: 4.84 / 5\n",
      "\n",
      "Position 7:\n",
      "INDIVIDUAL CREAM CHEESE DANISH\n",
      "Interactions:   135\n",
      "Average rating: 4.84 / 5\n",
      "\n",
      "Position 6:\n",
      "SPICED SWEET ROASTED RED PEPPER   FETA HUMMUS\n",
      "Interactions:   117\n",
      "Average rating: 4.85 / 5\n",
      "\n",
      "Position 5:\n",
      "LINDA S CHEESECAKE STUFFED STRAWBERRIES\n",
      "Interactions:   131\n",
      "Average rating: 4.85 / 5\n",
      "\n",
      "Position 4:\n",
      "SWEET  CREAMY COLESLAW\n",
      "Interactions:   139\n",
      "Average rating: 4.85 / 5\n",
      "\n",
      "Position 3:\n",
      "MONTEREY CHICKEN ROLLS\n",
      "Interactions:   134\n",
      "Average rating: 4.87 / 5\n",
      "\n",
      "Position 2:\n",
      "BROWN SUGAR BUNDT CAKE\n",
      "Interactions:   118\n",
      "Average rating: 4.92 / 5\n",
      "\n",
      "Position 1:\n",
      "MEXICAN STACK UP  RSC\n",
      "Interactions:   217\n",
      "Average rating: 4.99 / 5\n",
      "\n"
     ]
    }
   ],
   "source": [
    "# Print top rated recipes\n",
    "\n",
    "for i in range(10, 0, -1):\n",
    "    print('Position ', i, ':', sep = '')\n",
    "    recipe_id = top_rated_recipes[i - 1]['recipe_id']\n",
    "    name = recipes_raw.loc[recipes_raw['id'] == recipe_id]['name'].to_string(index= False)\n",
    "    print(name.upper())\n",
    "    print('Interactions:  ', top_rated_recipes[i - 1]['interactions_count'])\n",
    "    avg_rating = top_rated_recipes[i - 1]['avg_rating']\n",
    "    print(f'Average rating: {avg_rating:1.2f} / 5\\n')"
   ],
   "metadata": {
    "collapsed": false
   }
  },
  {
   "cell_type": "markdown",
   "source": [
    "Now we got a really nice top recipes list, which means we can head to the supermarket for some tex-mex ingredients :)"
   ],
   "metadata": {
    "collapsed": false
   }
  }
 ],
 "metadata": {
  "kernelspec": {
   "display_name": "Python 3",
   "language": "python",
   "name": "python3"
  },
  "language_info": {
   "codemirror_mode": {
    "name": "ipython",
    "version": 2
   },
   "file_extension": ".py",
   "mimetype": "text/x-python",
   "name": "python",
   "nbconvert_exporter": "python",
   "pygments_lexer": "ipython2",
   "version": "2.7.6"
  }
 },
 "nbformat": 4,
 "nbformat_minor": 0
}
